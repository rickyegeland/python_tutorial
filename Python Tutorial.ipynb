{
 "cells": [
  {
   "cell_type": "markdown",
   "metadata": {
    "slideshow": {
     "slide_type": "-"
    }
   },
   "source": [
    "# Numerical Analysis in Python for Astro-/Solar-physics\n",
    "\n",
    "Welcome to the  Python tutorial for astro-/solar- physics.  The tutorial is designed to help you understand the mechanics of python and inform you about a variety of libraries availbable for scientific work.  It does not go deeply into specific analysis techniques or tools.\n",
    "\n",
    "This is an *executable* tutorial written as a Jupyter notebook running Python version 3.6.  Jupyter notebooks consist of *cells* that can be executed (with ctl–ENTER) to produce output.  For example:"
   ]
  },
  {
   "cell_type": "code",
   "execution_count": 1,
   "metadata": {},
   "outputs": [
    {
     "data": {
      "text/plain": [
       "2"
      ]
     },
     "execution_count": 1,
     "metadata": {},
     "output_type": "execute_result"
    }
   ],
   "source": [
    "0 + 1\n",
    "1 + 1"
   ]
  },
  {
   "cell_type": "markdown",
   "metadata": {},
   "source": [
    "As you can see, only the result of the *last line* of a cell is shown.  To show more output in a single cell, use the `print()` function."
   ]
  },
  {
   "cell_type": "code",
   "execution_count": 2,
   "metadata": {},
   "outputs": [
    {
     "name": "stdout",
     "output_type": "stream",
     "text": [
      "1\n",
      "2\n"
     ]
    }
   ],
   "source": [
    "print(0 + 1)\n",
    "print(1 + 1)"
   ]
  },
  {
   "cell_type": "markdown",
   "metadata": {},
   "source": [
    "Other cells (like this one) contain text in the Markdown formatting language that you can use for documentation.  Headings, **bold**, *italics*, lists, tables, etc. are all supported.  You can also include latex formulae inline, e.g. $f(t) = A \\sin(2 \\pi t/P) + A_0$.  This can be useful for accurately documenting and developing your scientific work.  Equations can also appear on their own line.\n",
    "\n",
    "$$\n",
    "\\begin{align}\n",
    "\\nabla \\cdot \\mathbf{E} & = 4 \\pi \\rho \\\\\n",
    "\\nabla \\cdot \\mathbf{B} & = 0 \\\\\n",
    "\\nabla \\times \\mathbf{E} & = - \\frac{1}{c} \\frac{\\partial \\mathbf{B}}{\\partial t} \\\\\n",
    "\\nabla \\times \\mathbf{B} & = \\frac{1}{c} \\left( 4 \\pi \\mathbf{J} + \\frac{\\partial \\mathbf{E}}{\\partial t} \\right) \\\\\n",
    "\\end{align}\n",
    "$$\n",
    "\n",
    "(double-click this cell to see the formatting and latex)\n",
    "\n",
    "## Other development and execution environments\n",
    "\n",
    "This tutorial runs in a jupyter notebook, where you will see python code and its output.  Jupyter runs in a web browser and communicates to a running python process called the **kernel**.  The advantage to this setup is that it runs everywhere (every platform has a web browser) and makes it easy to share code, results, and documentation on the internet.\n",
    "\n",
    "There are other ways to code and execute python:\n",
    "\n",
    " * Calling `python` on the command line with a script (*.py) file\n",
    " * Using the `python` interpreter interactively from a terminal\n",
    " * Using `ipython` to interactively execute python (has more features than the above)\n",
    " \n",
    "Which environment you use depends on what you are doing.  For interactivre development and scientific exploration, Jupyter is the best environment out there.  But for automated systems (e.g. batch processing thousands of data files), you probably want to execute things from the command line."
   ]
  },
  {
   "cell_type": "markdown",
   "metadata": {},
   "source": [
    "## Other learning resources\n",
    "\n",
    "There is an enormous universe of documentation, tutorials, videos, books, etc. for learning python.  Everything you need is online.  I tend to prefer \"official\" documentation such as:\n",
    "\n",
    " * [The Python Tutorial](https://docs.python.org/3/tutorial/index.html)\n",
    " * [The Python Library Reference](https://docs.python.org/3/library/index.html)\n",
    " * [The NumPy Reference](https://docs.scipy.org/doc/numpy/reference/)\n",
    " * [The SciPy Reference](https://docs.scipy.org/doc/scipy/reference/)\n",
    " * [The matplotlib User's Guide](https://matplotlib.org/2.2.2/users/index.html)\n",
    " * [The matplotlib API](https://matplotlib.org/2.2.2/api/index.html)\n",
    " \n",
    "For specific questions, there is always Google, which will usually lead you to StackOverflow.  Don't be ashamed, this is how everybody gets through a project these days."
   ]
  },
  {
   "cell_type": "markdown",
   "metadata": {},
   "source": [
    "## Python was not designed for numerical analysis\n",
    "\n",
    "Python is a **general purpose programming language**, and as such is **not specifically** designed for numerical analysis.  To illustrate this point, consider this:"
   ]
  },
  {
   "cell_type": "code",
   "execution_count": 3,
   "metadata": {},
   "outputs": [
    {
     "data": {
      "text/plain": [
       "[1.1, 2.2, 3.3, 4.4, 8.9, 7.8, 6.7, 5.6]"
      ]
     },
     "execution_count": 3,
     "metadata": {},
     "output_type": "execute_result"
    }
   ],
   "source": [
    "array1 = [1.1, 2.2, 3.3, 4.4]\n",
    "array2 = [8.9, 7.8, 6.7, 5.6]\n",
    "array1 + array2"
   ]
  },
  {
   "cell_type": "markdown",
   "metadata": {},
   "source": [
    "If you were expecting Python to do array math, you would want to see the array `[10., 10., 10., 10.]` as a result.  But `[]` does **not** declare an array in Python, it declares a `list` object.  The `+` operator for `list`s does a concatenation, not a summnation.  This makes sense when you consider that `list`s can contain data of different types:"
   ]
  },
  {
   "cell_type": "code",
   "execution_count": 4,
   "metadata": {},
   "outputs": [
    {
     "data": {
      "text/plain": [
       "[1, 1.1, 'Foo', ['a', 'b', 'c'], 9, 9.9, 'Baz', ['x', 'y', 'z']]"
      ]
     },
     "execution_count": 4,
     "metadata": {},
     "output_type": "execute_result"
    }
   ],
   "source": [
    "list1 = [1, 1.1, \"Foo\", [\"a\", \"b\", \"c\"]]\n",
    "list2 = [9, 9.9, \"Baz\", [\"x\", \"y\", \"z\"]]\n",
    "list1 + list2"
   ]
  },
  {
   "cell_type": "markdown",
   "metadata": {},
   "source": [
    "The above lists contain `int`, `float`, `str`, and `list` data types.  (Lists within Lists)!  This kind of generic collection is often useful, but not particularly so when you want to do math."
   ]
  },
  {
   "cell_type": "markdown",
   "metadata": {},
   "source": [
    "## But Python is very good for numerical analysis! (with some key libraries)\n",
    "\n",
    "But, by installing a few very nice packages Python becomes one of the best numerical analysis tools available.\n",
    "To run this tutorial, you will need:\n",
    "\n",
    " * python version 3.6 (or higher)\n",
    " * numpy\n",
    " * scipy\n",
    " * matplotlib\n",
    " * jupyter\n",
    " * astropy\n",
    " * sunpy\n",
    " \n",
    "There are many ways to install these packages, and they depend on your platform.  I use Mac OS X and like to use the [macports](https://www.macports.org) package manager.  With macports installed I can get the packages like this in the terminal:\n",
    "\n",
    "```\n",
    "sudo port install python36 py36-numpy py36-scipy py36-matplotlib py36-jupyter py36-astropy\n",
    "```\n",
    "\n",
    "The [Anaconda](https://www.anaconda.com/download/#macos) package for Windows/Mac/Linux is prepared for scientific/numerical analysis and contains all of the key libraries (and more).\n",
    "\n",
    "There are a million other ways to get the libraries installed, and I won't go into any more details here.  Once you have the key libraries installed you can import the **modules** you need for scientific work.  A Python module is a collection of functions, classes, and constants with its own namespace (the module name) that is designed to solve some specific problem or add some feature.  Let's import the \"Numerical Python\" (`numpy`) module now:"
   ]
  },
  {
   "cell_type": "code",
   "execution_count": 5,
   "metadata": {},
   "outputs": [],
   "source": [
    "import numpy as np"
   ]
  },
  {
   "cell_type": "markdown",
   "metadata": {},
   "source": [
    "The `as np` part imports `numpy` under the **alias** `np`.  This is just a convenince because we are going to use `numpy` so much we want to save ourselves the trouble of typing five characters, so we reduce it to two.  Defining `np` is an almost universal convention in numerical Python code.\n",
    "\n",
    "**Now** we can do math properly:"
   ]
  },
  {
   "cell_type": "code",
   "execution_count": 6,
   "metadata": {},
   "outputs": [
    {
     "data": {
      "text/plain": [
       "array([10., 10., 10., 10.])"
      ]
     },
     "execution_count": 6,
     "metadata": {},
     "output_type": "execute_result"
    }
   ],
   "source": [
    "array1 = np.array([1.1, 2.2, 3.3, 4.4])\n",
    "array2 = np.array([8.9, 7.8, 6.7, 5.6])\n",
    "array1 + array2"
   ]
  },
  {
   "cell_type": "markdown",
   "metadata": {},
   "source": [
    "Here we have used the `np.array()` function to create a `numpy.ndarray` object.  This array object is \"a multidimensional, homogeneous array of fixed-size items.  An associated data-type object describes the format of each element in the array (its byte-order, how many bytes it occupies in memory, whether it is an integer, a floating point number, or something else, etc.)\"\n",
    "\n",
    "What this means is that, unlike `list`s, `ndarray`s are arrays of elements with all the same type.  Furthermore, they are fixed-size, which means the amount of memory they occupy never changes.  You cannot really \"append\" to them like you can with `list`s.  (to make a longer `ndarray`, a new longer one is created and the old shorter one is copied to it).  Underneath the hood they are implimented in C, a lower-level language than Python, and therefore the math operations we do with them are **very fast**."
   ]
  },
  {
   "cell_type": "markdown",
   "metadata": {
    "slideshow": {
     "slide_type": "-"
    }
   },
   "source": [
    "## Core Python Language Features\n",
    "\n",
    "Now we are going to step back and look at the core Python features, that is, things in Python **without** using, numpy, matplotlib, or any of that.\n",
    "\n",
    "### Python is an Interpreted Language\n",
    "\n",
    "Python is a an interpreted langage.  This means you do not have to compile your code to run it, like with C or Fortran.  Instead the code \"script\" is read by the interpreter, itself a compiled program usually named `python`.  This extra step between human-written code and machine-code (compiled) usually means you trade off some speed.  However, since many of the important things in python are coded in C anyway, it's actually not that bad.  Here is an example of running some python code from a code file (usually ending with '.py'):\n"
   ]
  },
  {
   "cell_type": "code",
   "execution_count": 7,
   "metadata": {},
   "outputs": [
    {
     "name": "stdout",
     "output_type": "stream",
     "text": [
      "#!/usr/bin/env python\n",
      "\n",
      "print(\"Hello World!\")\n",
      "---\n",
      "Hello World!\n"
     ]
    }
   ],
   "source": [
    "!cat hello.py\n",
    "!echo \"---\"\n",
    "!python hello.py"
   ]
  },
  {
   "cell_type": "markdown",
   "metadata": {},
   "source": [
    "This is showing off another feature of the jupyter notebook: using '!' to call commands from the shell.  This is useful to interact with things like data files without leaving the jupyter notebook environment.  Of course you can also run the code in the terminal.  The first line of `hello.py` is called the \"shabang\", and it allows the script to be execuded directly, like this:"
   ]
  },
  {
   "cell_type": "code",
   "execution_count": 8,
   "metadata": {},
   "outputs": [
    {
     "name": "stdout",
     "output_type": "stream",
     "text": [
      "Hello World!\r\n"
     ]
    }
   ],
   "source": [
    "!./hello.py"
   ]
  },
  {
   "cell_type": "markdown",
   "metadata": {},
   "source": [
    "### Python is Dynamically Typed\n",
    "\n",
    "This just means that, again, unlike C and Fortran, you don't have to declare variables before you use them.  You just *use* them.  Also, the \"type\" of the variable can change during the program, e.g.:"
   ]
  },
  {
   "cell_type": "code",
   "execution_count": 9,
   "metadata": {},
   "outputs": [
    {
     "name": "stdout",
     "output_type": "stream",
     "text": [
      "x before: <class 'int'>\n",
      "x after: <class 'list'>\n"
     ]
    }
   ],
   "source": [
    "x = 5\n",
    "print(\"x before:\", type(x))\n",
    "x = [1, 2, 3, 4, 5]\n",
    "print(\"x after:\", type(x))"
   ]
  },
  {
   "cell_type": "markdown",
   "metadata": {},
   "source": [
    "If you've never used a statically-typed langage before, the advantages and pitfalls of this may be hard to grasp.  But basically it means that at no point in the program will it be **guarunteed** that `x` is what you expect it to be!"
   ]
  },
  {
   "cell_type": "markdown",
   "metadata": {},
   "source": [
    "### Python is Object-Oriented\n",
    "\n",
    "Every variable in python is an **object** of some type called its **class**.  An object is like a little package that has data and functions within it.  The functions of an object are called **methods**.  For example:"
   ]
  },
  {
   "cell_type": "code",
   "execution_count": 10,
   "metadata": {},
   "outputs": [
    {
     "name": "stdout",
     "output_type": "stream",
     "text": [
      "here is the data representation of x: [1, 2, 3, 4, 5]\n",
      "here is updated x: [1, 2, 3, 4, 5, 6]\n"
     ]
    }
   ],
   "source": [
    "x = [1, 2, 3, 4, 5]\n",
    "print(\"here is the data representation of x:\", x)\n",
    "x.append(6) # call the \"append\" method on the list object \"x\", with argument 6\n",
    "print(\"here is updated x:\", x)"
   ]
  },
  {
   "cell_type": "markdown",
   "metadata": {},
   "source": [
    "Object-oriented programing is a different programming paradigm compared to, for example, **procedural programming**, which would do the same thing like this:"
   ]
  },
  {
   "cell_type": "code",
   "execution_count": 11,
   "metadata": {},
   "outputs": [
    {
     "name": "stdout",
     "output_type": "stream",
     "text": [
      "here is the data representation of x: [1, 2, 3, 4, 5]\n",
      "here is updated x: [1, 2, 3, 4, 5, 6]\n"
     ]
    }
   ],
   "source": [
    "# Define a function to append data to an array\n",
    "def append(list1, list2):\n",
    "    result = list1 + list2\n",
    "    return result\n",
    "    \n",
    "x = [1, 2, 3, 4, 5]\n",
    "print(\"here is the data representation of x:\", x)\n",
    "x = append(x, [6]) # call the \"append\" function with arguments x and the new list [6] and assign the result back to x\n",
    "print(\"here is updated x:\", x)"
   ]
  },
  {
   "cell_type": "markdown",
   "metadata": {},
   "source": [
    "As the above example illustrates, it is possible to mix programming paradigms in a single language.  However, Python is at its core object-oriented, while other langagues like IDL, C, Fortran are fundamentally procedural."
   ]
  },
  {
   "cell_type": "markdown",
   "metadata": {},
   "source": [
    "### Modular\n",
    "\n",
    "Python allows the separation of functions and objects into **modules** with their own namespace.  What this means is that multiple modules and the main program running can all have variables named `x` without causing a conflict.  This may seem very basic but some languages fail to do this and can be a nightmare to work with.  Below is an example of two simple modules:"
   ]
  },
  {
   "cell_type": "code",
   "execution_count": 12,
   "metadata": {},
   "outputs": [
    {
     "name": "stdout",
     "output_type": "stream",
     "text": [
      "pi = 3.1415\n",
      "\n",
      "def area(r):\n",
      "    return pi * r**2\n",
      "\n",
      "class circle:\n",
      "    def __init__(self, radius):\n",
      "        self.radius = radius\n",
      "\n",
      "    def area(self):\n",
      "        return area(self.radius)\n",
      "\n",
      "    def circumference(self):\n",
      "        return 2*pi*self.radius\n",
      "---\n",
      "pi = \"A tasty dessert\"\n",
      "\n",
      "def area():\n",
      "    print(\"The standard pi is about 300 cm^2\")\n"
     ]
    }
   ],
   "source": [
    "!cat moduleA.py\n",
    "!echo \"---\"\n",
    "!cat moduleB.py"
   ]
  },
  {
   "cell_type": "markdown",
   "metadata": {},
   "source": [
    "Here we demonstrate the separate namespaces.  The variables accessed with the `.` are called **module attributes**."
   ]
  },
  {
   "cell_type": "code",
   "execution_count": 13,
   "metadata": {},
   "outputs": [
    {
     "name": "stdout",
     "output_type": "stream",
     "text": [
      "pi\n",
      "3.1415\n",
      "A tasty dessert\n",
      "pi\n"
     ]
    }
   ],
   "source": [
    "# Main program namespace\n",
    "pi = \"pi\"\n",
    "print(pi)\n",
    "\n",
    "# moduleA namespace\n",
    "import moduleA\n",
    "print(moduleA.pi)\n",
    "\n",
    "# moduleB namespace\n",
    "import moduleB\n",
    "print(moduleB.pi)\n",
    "\n",
    "# Main program again: nothing changed/overwrote \"pi\"\n",
    "print(pi)"
   ]
  },
  {
   "cell_type": "markdown",
   "metadata": {},
   "source": [
    "Here we demonstrate importing from one namespace to another:"
   ]
  },
  {
   "cell_type": "code",
   "execution_count": 14,
   "metadata": {},
   "outputs": [
    {
     "name": "stdout",
     "output_type": "stream",
     "text": [
      "pi\n",
      "3.1415\n"
     ]
    }
   ],
   "source": [
    "# Main program namespace:\n",
    "pi = \"pi\"\n",
    "print(pi)\n",
    "\n",
    "# Import from moduleA, overwriting pi\n",
    "from moduleA import pi\n",
    "print(pi)"
   ]
  },
  {
   "cell_type": "markdown",
   "metadata": {},
   "source": [
    "Now we demonstrate calling **module functions**:"
   ]
  },
  {
   "cell_type": "code",
   "execution_count": 15,
   "metadata": {},
   "outputs": [
    {
     "data": {
      "text/plain": [
       "314.15000000000003"
      ]
     },
     "execution_count": 15,
     "metadata": {},
     "output_type": "execute_result"
    }
   ],
   "source": [
    "moduleA.area(10.)"
   ]
  },
  {
   "cell_type": "code",
   "execution_count": 16,
   "metadata": {},
   "outputs": [
    {
     "name": "stdout",
     "output_type": "stream",
     "text": [
      "The standard pi is about 300 cm^2\n"
     ]
    }
   ],
   "source": [
    "moduleB.area()"
   ]
  },
  {
   "cell_type": "markdown",
   "metadata": {},
   "source": [
    "And finally, we demonstrate a simple class (and a `for` loop):"
   ]
  },
  {
   "cell_type": "code",
   "execution_count": 17,
   "metadata": {},
   "outputs": [
    {
     "name": "stdout",
     "output_type": "stream",
     "text": [
      "a circle with radius=4.00 has circumference=25.132 and area=50.3\n",
      "a circle with radius=8.00 has circumference=50.264 and area=201.1\n",
      "a circle with radius=16.00 has circumference=100.528 and area=804.2\n"
     ]
    }
   ],
   "source": [
    "from moduleA import circle\n",
    "# Instantiate three circles\n",
    "c1 = circle(4.)\n",
    "c2 = circle(8.)\n",
    "c3 = circle(16.)\n",
    "\n",
    "# Iterate through the circles and tell us about them\n",
    "for c in [c1, c2, c3]:\n",
    "    print(\"a circle with radius=%0.2f has circumference=%0.3f and area=%0.1f\" % \\\n",
    "          (c.radius, c.circumference(), c.area()))"
   ]
  },
  {
   "cell_type": "markdown",
   "metadata": {},
   "source": [
    "The '\\' in the above cell splits a long line for better readability."
   ]
  },
  {
   "cell_type": "markdown",
   "metadata": {},
   "source": [
    "## Python Built-in Types\n",
    "\n",
    "Now the *real* basics, the built-in types provided by Python."
   ]
  },
  {
   "cell_type": "markdown",
   "metadata": {},
   "source": [
    "### Numeric Types\n",
    "\n",
    "#### int"
   ]
  },
  {
   "cell_type": "code",
   "execution_count": 18,
   "metadata": {},
   "outputs": [
    {
     "name": "stdout",
     "output_type": "stream",
     "text": [
      "<class 'int'>\n"
     ]
    },
    {
     "data": {
      "text/plain": [
       "(2, 3)"
      ]
     },
     "execution_count": 18,
     "metadata": {},
     "output_type": "execute_result"
    }
   ],
   "source": [
    "x = 2\n",
    "y = 3\n",
    "print(type(x)) # type name\n",
    "(x, y)"
   ]
  },
  {
   "cell_type": "code",
   "execution_count": 19,
   "metadata": {},
   "outputs": [
    {
     "name": "stdout",
     "output_type": "stream",
     "text": [
      "sum: 5\n",
      "difference: -1\n",
      "product: 6\n",
      "quotient: 0.6666666666666666\n",
      "power: 8\n",
      "negation: -2\n",
      "absolute value: 2\n"
     ]
    }
   ],
   "source": [
    "# mathematical operations\n",
    "print(\"sum:\", x + y)\n",
    "print(\"difference:\", x - y)\n",
    "print(\"product:\", x * y)\n",
    "print(\"quotient:\", x / y)\n",
    "print(\"power:\", x ** y)\n",
    "print(\"negation:\", -x)\n",
    "print(\"absolute value:\", abs(-x))"
   ]
  },
  {
   "cell_type": "markdown",
   "metadata": {},
   "source": [
    "#### float"
   ]
  },
  {
   "cell_type": "code",
   "execution_count": 20,
   "metadata": {},
   "outputs": [
    {
     "name": "stdout",
     "output_type": "stream",
     "text": [
      "<class 'float'>\n"
     ]
    },
    {
     "data": {
      "text/plain": [
       "(2.0, 3.1)"
      ]
     },
     "execution_count": 20,
     "metadata": {},
     "output_type": "execute_result"
    }
   ],
   "source": [
    "x = 2. # note the . makes this a float, not an int\n",
    "y = 3.1\n",
    "print(type(x)) # type name\n",
    "(x, y)"
   ]
  },
  {
   "cell_type": "code",
   "execution_count": 21,
   "metadata": {},
   "outputs": [
    {
     "name": "stdout",
     "output_type": "stream",
     "text": [
      "sum: 5.1\n",
      "difference: -1.1\n",
      "product: 6.2\n",
      "quotient: 0.6451612903225806\n",
      "power: 8.574187700290345\n",
      "negation: -2.0\n",
      "absolute value: 2.0\n"
     ]
    }
   ],
   "source": [
    "# mathematical operations\n",
    "print(\"sum:\", x + y)\n",
    "print(\"difference:\", x - y)\n",
    "print(\"product:\", x * y)\n",
    "print(\"quotient:\", x / y)\n",
    "print(\"power:\", x ** y)\n",
    "print(\"negation:\", -x)\n",
    "print(\"absolute value:\", abs(-x))"
   ]
  },
  {
   "cell_type": "markdown",
   "metadata": {},
   "source": [
    "#### complex"
   ]
  },
  {
   "cell_type": "code",
   "execution_count": 22,
   "metadata": {},
   "outputs": [
    {
     "name": "stdout",
     "output_type": "stream",
     "text": [
      "<class 'complex'>\n"
     ]
    },
    {
     "data": {
      "text/plain": [
       "((1+2j), (3+4j))"
      ]
     },
     "execution_count": 22,
     "metadata": {},
     "output_type": "execute_result"
    }
   ],
   "source": [
    "x = 1 + 2j\n",
    "y = 3 + 4j\n",
    "print(type(x)) # type name\n",
    "(x, y)"
   ]
  },
  {
   "cell_type": "code",
   "execution_count": 23,
   "metadata": {},
   "outputs": [
    {
     "name": "stdout",
     "output_type": "stream",
     "text": [
      "real part: 1.0 3.0\n",
      "imaginary part: 2.0 4.0\n",
      "sum: (4+6j)\n",
      "difference: (-2-2j)\n",
      "product: (-5+10j)\n",
      "quotient: (0.44+0.08j)\n",
      "power: (0.12900959407446697+0.03392409290517015j)\n",
      "negation: (-1-2j) (-3-4j)\n",
      "absolute value: 2.23606797749979 5.0\n"
     ]
    }
   ],
   "source": [
    "# mathematical operations\n",
    "print(\"real part:\", x.real, y.real)\n",
    "print(\"imaginary part:\", x.imag, y.imag)\n",
    "print(\"sum:\", x + y)\n",
    "print(\"difference:\", x - y)\n",
    "print(\"product:\", x * y)\n",
    "print(\"quotient:\", x / y)\n",
    "print(\"power:\", x ** y)\n",
    "print(\"negation:\", -x, -y)\n",
    "print(\"absolute value:\", abs(-x), abs(-y))"
   ]
  },
  {
   "cell_type": "markdown",
   "metadata": {},
   "source": [
    "### None: the nothing type\n",
    "\n",
    "The `None` type is used to indicate nothing, which is different than 0, which is at least a number with some meaning.  `None` is often used as the default for unset function arguments.  `None` is also the default return value of python functions.  (More on functions later.)"
   ]
  },
  {
   "cell_type": "code",
   "execution_count": 24,
   "metadata": {},
   "outputs": [
    {
     "name": "stdout",
     "output_type": "stream",
     "text": [
      "<class 'NoneType'>\n"
     ]
    },
    {
     "data": {
      "text/plain": [
       "(None, 3)"
      ]
     },
     "execution_count": 24,
     "metadata": {},
     "output_type": "execute_result"
    }
   ],
   "source": [
    "x = None\n",
    "y = 3\n",
    "print(type(x)) # type name\n",
    "(x, y)"
   ]
  },
  {
   "cell_type": "markdown",
   "metadata": {},
   "source": [
    "Here we see that math doesn't work on `None`, because that wouldn't make any sense."
   ]
  },
  {
   "cell_type": "code",
   "execution_count": 25,
   "metadata": {},
   "outputs": [
    {
     "ename": "TypeError",
     "evalue": "unsupported operand type(s) for +: 'NoneType' and 'int'",
     "output_type": "error",
     "traceback": [
      "\u001b[0;31m---------------------------------------------------------------------------\u001b[0m",
      "\u001b[0;31mTypeError\u001b[0m                                 Traceback (most recent call last)",
      "\u001b[0;32m<ipython-input-25-0caf6a233ef5>\u001b[0m in \u001b[0;36m<module>\u001b[0;34m()\u001b[0m\n\u001b[0;32m----> 1\u001b[0;31m \u001b[0mprint\u001b[0m\u001b[0;34m(\u001b[0m\u001b[0;34m\"sum:\"\u001b[0m\u001b[0;34m,\u001b[0m \u001b[0mx\u001b[0m \u001b[0;34m+\u001b[0m \u001b[0my\u001b[0m\u001b[0;34m)\u001b[0m\u001b[0;34m\u001b[0m\u001b[0m\n\u001b[0m",
      "\u001b[0;31mTypeError\u001b[0m: unsupported operand type(s) for +: 'NoneType' and 'int'"
     ]
    }
   ],
   "source": [
    "print(\"sum:\", x + y)"
   ]
  },
  {
   "cell_type": "markdown",
   "metadata": {},
   "source": [
    "### Boolean Type and Operators\n",
    "\n",
    "What is Truth?  In python, it is a reserved constant keyword called `True`, as is `False`."
   ]
  },
  {
   "cell_type": "code",
   "execution_count": 27,
   "metadata": {},
   "outputs": [
    {
     "name": "stdout",
     "output_type": "stream",
     "text": [
      "<class 'bool'>\n"
     ]
    },
    {
     "data": {
      "text/plain": [
       "(True, False)"
      ]
     },
     "execution_count": 27,
     "metadata": {},
     "output_type": "execute_result"
    }
   ],
   "source": [
    "x = True\n",
    "y = False\n",
    "print(type(x)) # type name\n",
    "(x, y)"
   ]
  },
  {
   "cell_type": "markdown",
   "metadata": {},
   "source": [
    "Truth is determined by the result of boolean expressions using logical operators."
   ]
  },
  {
   "cell_type": "code",
   "execution_count": 28,
   "metadata": {},
   "outputs": [
    {
     "name": "stdout",
     "output_type": "stream",
     "text": [
      "'and' operator: False\n",
      "'or' operator: True\n",
      "'not' operator (negation): False True\n"
     ]
    }
   ],
   "source": [
    "# Boolean Operators\n",
    "print(\"'and' operator:\", x and y)\n",
    "print(\"'or' operator:\", x or y)\n",
    "print(\"'not' operator (negation):\", not x, not y)"
   ]
  },
  {
   "cell_type": "markdown",
   "metadata": {},
   "source": [
    "The `if` statement tests an expression for truth, and if it is true the block is executed."
   ]
  },
  {
   "cell_type": "code",
   "execution_count": 29,
   "metadata": {},
   "outputs": [
    {
     "name": "stdout",
     "output_type": "stream",
     "text": [
      "x, y: True False\n",
      "Test 1:\n",
      "  Yes, x is true.\n",
      "Test 2:\n",
      "Test 3:\n",
      "  Looks like one of x or y is not true.\n",
      "Test 4:\n",
      "  Either x or y is true.\n"
     ]
    }
   ],
   "source": [
    "print(\"x, y:\", x, y)\n",
    "print(\"Test 1:\")\n",
    "if x:\n",
    "    print(\"  Yes, x is true.\")\n",
    "   \n",
    "print(\"Test 2:\")\n",
    "if y:\n",
    "    print(\"  Yes, y is true.\")\n",
    "    \n",
    "print(\"Test 3:\")\n",
    "if x and y:\n",
    "    print(\"  x and y are both true.\")\n",
    "else:\n",
    "    print(\"  Looks like one of x or y is not true.\")\n",
    "   \n",
    "print(\"Test 4:\")\n",
    "if y:\n",
    "    print(\"  y is true.\")\n",
    "elif x or y:\n",
    "    print(\"  Either x or y is true.\")\n",
    "else:\n",
    "    print(\"  Wow.  Looks like nothing is true. :-(\")"
   ]
  },
  {
   "cell_type": "code",
   "execution_count": 30,
   "metadata": {},
   "outputs": [
    {
     "name": "stdout",
     "output_type": "stream",
     "text": [
      "'<' operator 1 < 2:  True\n",
      "'<=' operator 1 <= 2: True\n",
      "'>' operator 1 > 2: False\n",
      "'>' operator 1 >= 2: False\n",
      "'==' (equality) operator 1 == 2: False\n",
      "'==' (equality) operator 1 == 1: True\n",
      "'==' (equality) operator 1 == 1.0: True\n",
      "'is' (object identity) operator 1 is 2: False\n",
      "'is' (object identity) operator 1 is 1: True\n",
      "'is' (object identity) operator 1 is 1.0: False\n",
      "'!=' (inequality) operator 1 != 2: True\n",
      "'!=' (inequality) operator 1 != 1: False\n",
      "'!=' (inequality) operator 1 != 1.0: False\n",
      "'is not' (negated object identity) operator 1 is not 2: True\n",
      "'is not' (negated object identity) operator 1 is not 1: False\n",
      "'is not' (negated object identity) operator 1 is not 1.0: True\n"
     ]
    }
   ],
   "source": [
    "# Comparison operators\n",
    "print(\"'<' operator 1 < 2: \", 1 < 2)\n",
    "print(\"'<=' operator 1 <= 2:\", 1 <= 2)\n",
    "print(\"'>' operator 1 > 2:\", 1 > 2)\n",
    "print(\"'>' operator 1 >= 2:\", 1 >= 2)\n",
    "print(\"'==' (equality) operator 1 == 2:\", 1 == 2)\n",
    "print(\"'==' (equality) operator 1 == 1:\", 1 == 1)\n",
    "print(\"'==' (equality) operator 1 == 1.0:\", 1 == 1.0)\n",
    "print(\"'is' (object identity) operator 1 is 2:\", 1 is 2)\n",
    "print(\"'is' (object identity) operator 1 is 1:\", 1 is 1)\n",
    "print(\"'is' (object identity) operator 1 is 1.0:\", 1 is 1.0)\n",
    "print(\"'!=' (inequality) operator 1 != 2:\", 1 != 2)\n",
    "print(\"'!=' (inequality) operator 1 != 1:\", 1 != 1)\n",
    "print(\"'!=' (inequality) operator 1 != 1.0:\", 1 != 1.0)\n",
    "print(\"'is not' (negated object identity) operator 1 is not 2:\", 1 is not 2)\n",
    "print(\"'is not' (negated object identity) operator 1 is not 1:\", 1 is not 1)\n",
    "print(\"'is not' (negated object identity) operator 1 is not 1.0:\", 1 is not 1.0)"
   ]
  },
  {
   "cell_type": "markdown",
   "metadata": {},
   "source": [
    "Note above that `1 == 1.0` is `True` but `1 is 1.0` is `False`.  This demonstrates the subtle difference between `==` and `is`.  The latter is an even stronger version of identity that considers the class of the object, not just its value."
   ]
  },
  {
   "cell_type": "markdown",
   "metadata": {},
   "source": [
    "### None in boolean operations\n",
    "\n",
    "`None` evaluates `False` as a boolean."
   ]
  },
  {
   "cell_type": "code",
   "execution_count": 31,
   "metadata": {},
   "outputs": [
    {
     "name": "stdout",
     "output_type": "stream",
     "text": [
      "None and a bool: None True\n",
      "boolean value of None: False\n",
      "'and' operator: None\n",
      "'or' operator: True\n",
      "'not' operator (negation): True\n"
     ]
    }
   ],
   "source": [
    "x = None\n",
    "y = True\n",
    "print(\"None and a bool:\", x, y)\n",
    "print(\"boolean value of None:\", bool(x))\n",
    "print(\"'and' operator:\", x and y)\n",
    "print(\"'or' operator:\", x or y)\n",
    "print(\"'not' operator (negation):\", not x)"
   ]
  },
  {
   "cell_type": "markdown",
   "metadata": {},
   "source": [
    "Note that the value of the first thing that ends the evaluation of the boolean expression is the result of the expression.  That is why `x and y` (`None and True`) evaluates to `None`.  This little fact doesn't matter in an `if` statement, but if you are storing the results of logical expressions into variables it might."
   ]
  },
  {
   "cell_type": "markdown",
   "metadata": {},
   "source": [
    "### Numbers in boolean operations\n",
    "\n",
    "Numbers basically work under the principle that 0 is `False` and everything else is `True`.  Here we see that the `or` operator returns the value of the first thing that evaluates `True`."
   ]
  },
  {
   "cell_type": "code",
   "execution_count": 32,
   "metadata": {},
   "outputs": [
    {
     "name": "stdout",
     "output_type": "stream",
     "text": [
      "1 and a bool: 1 False\n",
      "boolean value of 1: True\n",
      "'and' operator: False\n",
      "'or' operator: 1\n",
      "'not' operator (negation): False\n",
      "--\n",
      "0 and a bool: 0 False\n",
      "boolean value of 0: False\n",
      "'and' operator: 0\n",
      "'or' operator: False\n",
      "'not' operator (negation): True\n",
      "--\n",
      "1.0 and a bool: 1.0 False\n",
      "boolean value of 1.0: True\n",
      "'and' operator: False\n",
      "'or' operator: 1.0\n",
      "'not' operator (negation): False\n",
      "--\n",
      "0.0 and a bool: 0.0 False\n",
      "boolean value of 0.0: False\n",
      "'and' operator: 0.0\n",
      "'or' operator: False\n",
      "'not' operator (negation): True\n",
      "--\n",
      "4.321 and a bool: 4.321 False\n",
      "boolean value of 4.321: True\n",
      "'and' operator: False\n",
      "'or' operator: 4.321\n",
      "'not' operator (negation): False\n",
      "--\n"
     ]
    }
   ],
   "source": [
    "y = False\n",
    "for x in (1, 0, 1.0, 0.0, 4.321):\n",
    "    print(\"%s and a bool:\" % x, x, y)\n",
    "    print(\"boolean value of %s:\" % x, bool(x))\n",
    "    print(\"'and' operator:\", x and y)\n",
    "    print(\"'or' operator:\", x or y)\n",
    "    print(\"'not' operator (negation):\", not x)\n",
    "    print(\"--\")"
   ]
  },
  {
   "cell_type": "markdown",
   "metadata": {},
   "source": [
    "### String type: a sequence of characters\n",
    "\n",
    "Strings are like `list`s of characters.  We see below how to access characters of a string by their **index**."
   ]
  },
  {
   "cell_type": "code",
   "execution_count": 33,
   "metadata": {},
   "outputs": [
    {
     "name": "stdout",
     "output_type": "stream",
     "text": [
      "string: hello brave new world\n",
      "string type: <class 'str'>\n",
      "string length: 21\n",
      "first character: h\n",
      "second character: e\n",
      "last character: d\n",
      "second-to-last character: l\n",
      "substring: brave\n",
      "concatenation: hello brave new world in space\n",
      "replacement: hello stupid new world\n",
      "splitting: ['hello', 'brave', 'new', 'world']\n"
     ]
    }
   ],
   "source": [
    "x = \"hello brave new world\"\n",
    "print(\"string:\", x)\n",
    "print(\"string type:\", type(x))\n",
    "print(\"string length:\", len(x))\n",
    "print(\"first character:\", x[0])\n",
    "print(\"second character:\", x[1])\n",
    "print(\"last character:\", x[-1])\n",
    "print(\"second-to-last character:\", x[-2])\n",
    "print(\"substring:\", x[6:11])\n",
    "print(\"concatenation:\", x + \" in space\")\n",
    "print(\"replacement:\", x.replace(\"brave\", \"stupid\"))\n",
    "print(\"splitting:\", x.split(\" \"))\n",
    "# ... and there are dozens more string methods useful for manipulating text..."
   ]
  },
  {
   "cell_type": "markdown",
   "metadata": {},
   "source": [
    "### Sequence Types: list, tuple, range\n",
    "\n",
    "#### list - a mutable sequence"
   ]
  },
  {
   "cell_type": "code",
   "execution_count": 34,
   "metadata": {},
   "outputs": [
    {
     "name": "stdout",
     "output_type": "stream",
     "text": [
      "list: [1, 2, 3, 4, 5]\n",
      "list type: <class 'list'>\n",
      "list length: 5\n"
     ]
    }
   ],
   "source": [
    "xorig = [1, 2, 3, 4, 5]\n",
    "x = list(xorig) # copy the original\n",
    "print(\"list:\", x)\n",
    "print(\"list type:\", type(x))\n",
    "print(\"list length:\", len(x))"
   ]
  },
  {
   "cell_type": "code",
   "execution_count": 35,
   "metadata": {},
   "outputs": [
    {
     "name": "stdout",
     "output_type": "stream",
     "text": [
      "list: [1, 2, 3, 4, 5]\n",
      "first element: 1\n",
      "second element: 2\n",
      "last element: 5\n",
      "second-to-last element: 4\n",
      "sub-list: [3, 4]\n",
      "all but the first: [2, 3, 4, 5]\n",
      "all but the first two: [3, 4, 5]\n",
      "all but the last: [1, 2, 3, 4]\n",
      "all but the last two: [1, 2, 3]\n",
      "every-other-one: [1, 4]\n",
      "every-other-one (offset): [2, 4]\n",
      "reverse order: [5, 4, 3, 2, 1]\n"
     ]
    }
   ],
   "source": [
    "# sequence indexing\n",
    "x = list(xorig) # copy the original\n",
    "print(\"list:\", x)\n",
    "print(\"first element:\", x[0])\n",
    "print(\"second element:\", x[1])\n",
    "print(\"last element:\", x[-1])\n",
    "print(\"second-to-last element:\", x[-2])\n",
    "print(\"sub-list:\", x[2:4])\n",
    "print(\"all but the first:\", x[1:])\n",
    "print(\"all but the first two:\", x[2:])\n",
    "print(\"all but the last:\", x[:-1])\n",
    "print(\"all but the last two:\", x[:-2])\n",
    "print(\"every-other-one:\", x[::3])\n",
    "print(\"every-other-one (offset):\", x[1::2])\n",
    "print(\"reverse order:\", x[::-1])"
   ]
  },
  {
   "cell_type": "code",
   "execution_count": 36,
   "metadata": {},
   "outputs": [
    {
     "name": "stdout",
     "output_type": "stream",
     "text": [
      "list: [1, 2, 3, 4, 5]\n",
      "concatenating with '+': [1, 2, 3, 4, 5, 6, 7, 8]\n",
      "x unchanged: [1, 2, 3, 4, 5]\n",
      "modifying element with '='\n",
      "x altered: [1, 20, 3, 4, 5]\n",
      "append()-ing one item: None\n",
      "x altered: [1, 20, 3, 4, 5, 6]\n",
      "careful! appending a list: None\n",
      "x altered: [1, 20, 3, 4, 5, 6, [7, 8, 9]]\n",
      "list length: 7\n",
      "extend()-ing a list: None\n",
      "x altered: [1, 2, 3, 4, 5, 6, 7, 8]\n",
      "list length: 8\n"
     ]
    }
   ],
   "source": [
    "# modifying lists\n",
    "x = list(xorig) # copy the original\n",
    "print(\"list:\", x)\n",
    "print(\"concatenating with '+':\", x + [6, 7, 8])\n",
    "print(\"x unchanged:\", x)\n",
    "print(\"modifying element with '='\")\n",
    "x[1] = 20\n",
    "print(\"x altered:\", x)\n",
    "print(\"append()-ing one item:\", x.append(6))\n",
    "print(\"x altered:\", x)\n",
    "print(\"careful! appending a list:\", x.append([7, 8, 9]))\n",
    "print(\"x altered:\", x)\n",
    "print(\"list length:\",   len(x))\n",
    "x = list(xorig) # revert to the original\n",
    "print(\"extend()-ing a list:\", x.extend([6, 7, 8]))\n",
    "print(\"x altered:\", x)\n",
    "print(\"list length:\", len(x))"
   ]
  },
  {
   "cell_type": "code",
   "execution_count": 37,
   "metadata": {},
   "outputs": [
    {
     "name": "stdout",
     "output_type": "stream",
     "text": [
      "list: [0, 7, 2, 9, 1, 9, 8, 0, 0, 5, 2, 9, 2, 0, 1, 0]\n",
      "list min(): 0\n",
      "list max(): 9\n",
      "sorted(): [0, 0, 0, 0, 0, 1, 1, 2, 2, 2, 5, 7, 8, 9, 9, 9]\n",
      "reverse sorted(): [9, 9, 9, 8, 7, 5, 2, 2, 2, 1, 1, 0, 0, 0, 0, 0]\n"
     ]
    }
   ],
   "source": [
    "# basic functions for lists\n",
    "x = [0, 7, 2, 9, 1, 9, 8, 0, 0, 5, 2, 9, 2, 0, 1, 0]\n",
    "print(\"list:\", x)\n",
    "print(\"list min():\", min(x))\n",
    "print(\"list max():\", max(x))\n",
    "print(\"sorted():\", sorted(x))\n",
    "print(\"reverse sorted():\", sorted(x)[::-1])"
   ]
  },
  {
   "cell_type": "code",
   "execution_count": 38,
   "metadata": {},
   "outputs": [
    {
     "name": "stdout",
     "output_type": "stream",
     "text": [
      "list: [0, 7, 2, 9, 1, 9, 8, 0, 0, 5, 2, 9, 2, 0, 1, 0]\n",
      "1 in x: True\n",
      "100 in x: False\n",
      "100 not in x: True\n"
     ]
    }
   ],
   "source": [
    "# checking membership\n",
    "print(\"list:\", x)\n",
    "print(\"1 in x:\", 1 in x)\n",
    "print(\"100 in x:\", 100 in x)\n",
    "print(\"100 not in x:\", 100 not in x)"
   ]
  },
  {
   "cell_type": "code",
   "execution_count": 39,
   "metadata": {},
   "outputs": [
    {
     "name": "stdout",
     "output_type": "stream",
     "text": [
      "bool list: [True, True, True]\n",
      "any(b): True\n",
      "all(b): True\n",
      "---\n",
      "bool list: [False, True, False]\n",
      "any(b): True\n",
      "all(b): False\n",
      "---\n",
      "bool list: [False, False, False]\n",
      "any(b): False\n",
      "all(b): False\n",
      "---\n"
     ]
    }
   ],
   "source": [
    "# lists of bools\n",
    "x = [True, True, True]\n",
    "y = [False, True, False]\n",
    "z = [False, False, False]\n",
    "for b in [x, y, z]:\n",
    "    print(\"bool list:\", b)\n",
    "    print(\"any(b):\", any(b))\n",
    "    print(\"all(b):\", all(b))\n",
    "    print(\"---\")"
   ]
  },
  {
   "cell_type": "markdown",
   "metadata": {},
   "source": [
    "#### tuple - an immutable sequence"
   ]
  },
  {
   "cell_type": "code",
   "execution_count": 40,
   "metadata": {},
   "outputs": [
    {
     "name": "stdout",
     "output_type": "stream",
     "text": [
      "tuple: (1, 2, 3, 4, 5)\n",
      "tuple type: <class 'tuple'>\n",
      "tuple length: 5\n",
      "first element: 1\n",
      "concatenating with '+': (1, 2, 3, 4, 5, 6, 7, 8)\n",
      "x unchanged: (1, 2, 3, 4, 5)\n",
      "modifying element with '='\n"
     ]
    },
    {
     "ename": "TypeError",
     "evalue": "'tuple' object does not support item assignment",
     "output_type": "error",
     "traceback": [
      "\u001b[0;31m---------------------------------------------------------------------------\u001b[0m",
      "\u001b[0;31mTypeError\u001b[0m                                 Traceback (most recent call last)",
      "\u001b[0;32m<ipython-input-40-021d8b9088d3>\u001b[0m in \u001b[0;36m<module>\u001b[0;34m()\u001b[0m\n\u001b[1;32m      8\u001b[0m \u001b[0mprint\u001b[0m\u001b[0;34m(\u001b[0m\u001b[0;34m\"x unchanged:\"\u001b[0m\u001b[0;34m,\u001b[0m \u001b[0mx\u001b[0m\u001b[0;34m)\u001b[0m\u001b[0;34m\u001b[0m\u001b[0m\n\u001b[1;32m      9\u001b[0m \u001b[0mprint\u001b[0m\u001b[0;34m(\u001b[0m\u001b[0;34m\"modifying element with '='\"\u001b[0m\u001b[0;34m)\u001b[0m\u001b[0;34m\u001b[0m\u001b[0m\n\u001b[0;32m---> 10\u001b[0;31m \u001b[0mx\u001b[0m\u001b[0;34m[\u001b[0m\u001b[0;36m1\u001b[0m\u001b[0;34m]\u001b[0m \u001b[0;34m=\u001b[0m \u001b[0;36m20\u001b[0m \u001b[0;31m# ERROR: tuples can never be modified\u001b[0m\u001b[0;34m\u001b[0m\u001b[0m\n\u001b[0m\u001b[1;32m     11\u001b[0m \u001b[0mprint\u001b[0m\u001b[0;34m(\u001b[0m\u001b[0;34m\"x altered:\"\u001b[0m\u001b[0;34m,\u001b[0m \u001b[0mx\u001b[0m\u001b[0;34m)\u001b[0m\u001b[0;34m\u001b[0m\u001b[0m\n\u001b[1;32m     12\u001b[0m \u001b[0mprint\u001b[0m\u001b[0;34m(\u001b[0m\u001b[0;34m\"append()-ing one item:\"\u001b[0m\u001b[0;34m,\u001b[0m \u001b[0mx\u001b[0m\u001b[0;34m.\u001b[0m\u001b[0mappend\u001b[0m\u001b[0;34m(\u001b[0m\u001b[0;36m6\u001b[0m\u001b[0;34m)\u001b[0m\u001b[0;34m)\u001b[0m \u001b[0;31m# ERROR: tuples can never be modified\u001b[0m\u001b[0;34m\u001b[0m\u001b[0m\n",
      "\u001b[0;31mTypeError\u001b[0m: 'tuple' object does not support item assignment"
     ]
    }
   ],
   "source": [
    "x = (1, 2, 3, 4, 5)\n",
    "print(\"tuple:\", x)\n",
    "print(\"tuple type:\", type(x))\n",
    "print(\"tuple length:\", len(x))\n",
    "print(\"first element:\", x[0])\n",
    "# etc., all indexing is the same as for lists\n",
    "print(\"concatenating with '+':\", x + (6, 7, 8)) # this creates a new tuple\n",
    "print(\"x unchanged:\", x)\n",
    "print(\"modifying element with '='\")\n",
    "x[1] = 20 # ERROR: tuples can never be modified\n",
    "print(\"x altered:\", x)\n",
    "print(\"append()-ing one item:\", x.append(6)) # ERROR: tuples can never be modified"
   ]
  },
  {
   "cell_type": "markdown",
   "metadata": {},
   "source": [
    "#### range — an immutable sequence of numbers for looping\n",
    "\n",
    "The good thing about `range` objects is that they are not stored in memory.  They can be an arbitrary length and Python won't take up all your memory."
   ]
  },
  {
   "cell_type": "code",
   "execution_count": 42,
   "metadata": {},
   "outputs": [
    {
     "name": "stdout",
     "output_type": "stream",
     "text": [
      "<class 'range'>\n",
      "range: range(0, 10)\n",
      "0, 1, 2, 3, 4, 5, 6, 7, 8, 9, "
     ]
    }
   ],
   "source": [
    "x = range(10)\n",
    "print(type(x))\n",
    "print(\"range:\", x)\n",
    "for i in x:\n",
    "    print(i, end=\", \")"
   ]
  },
  {
   "cell_type": "markdown",
   "metadata": {},
   "source": [
    "(above I have used `end=', '` in `print()` to print the list of numbers all on one line)"
   ]
  },
  {
   "cell_type": "code",
   "execution_count": 43,
   "metadata": {},
   "outputs": [
    {
     "name": "stdout",
     "output_type": "stream",
     "text": [
      "10 integers from 0 to 9: 0, 1, 2, 3, 4, 5, 6, 7, 8, 9, \n",
      "10 integers from 10 to 20-1: 10, 11, 12, 13, 14, 15, 16, 17, 18, 19, \n",
      "even integers from 0 to 10-1: 0, 2, 4, 6, 8, \n",
      "odd integers from 1 to 10-1: 1, 3, 5, 7, 9, \n",
      "every third integer from 0 to 10-1: 0, 3, 6, 9, \n"
     ]
    }
   ],
   "source": [
    "print(\"10 integers from 0 to 9: \", end='')\n",
    "for i in range(10):\n",
    "    print(i, end=\", \")\n",
    "print()\n",
    "    \n",
    "print(\"10 integers from 10 to 20-1: \", end='')\n",
    "for i in range(10, 20):\n",
    "    print(i, end=\", \")\n",
    "print()\n",
    "    \n",
    "print(\"even integers from 0 to 10-1: \", end='')\n",
    "for i in range(0, 10, 2):\n",
    "    print(i, end=\", \")\n",
    "print()\n",
    "    \n",
    "print(\"odd integers from 1 to 10-1: \", end='')\n",
    "for i in range(1, 10, 2):\n",
    "    print(i, end=\", \")\n",
    "print()\n",
    "\n",
    "print(\"every third integer from 0 to 10-1: \", end='')\n",
    "for i in range(0, 10, 3):\n",
    "    print(i, end=\", \")\n",
    "print()"
   ]
  },
  {
   "cell_type": "markdown",
   "metadata": {},
   "source": [
    "### dict – the dictionary object\n",
    "\n",
    "`dict`s are very useful objects which store a key-value pair.  The key can be any immutable type, but it is usually a `str`.  The value can be anything.  This object is useful for orgainizing information according to a key that has additional meaning, as opposed to by an index number as in `list` or `tuple`."
   ]
  },
  {
   "cell_type": "code",
   "execution_count": 44,
   "metadata": {},
   "outputs": [
    {
     "name": "stdout",
     "output_type": "stream",
     "text": [
      "<class 'dict'>\n"
     ]
    },
    {
     "data": {
      "text/plain": [
       "{'a': 1, 'b': 2, 'c': 3}"
      ]
     },
     "execution_count": 44,
     "metadata": {},
     "output_type": "execute_result"
    }
   ],
   "source": [
    "# keys are strings, values are ints in this example\n",
    "x = {'a':1, 'b':2, 'c':3}\n",
    "print(type(x))\n",
    "x"
   ]
  },
  {
   "cell_type": "code",
   "execution_count": 45,
   "metadata": {},
   "outputs": [
    {
     "name": "stdout",
     "output_type": "stream",
     "text": [
      "<class 'dict'>\n"
     ]
    },
    {
     "data": {
      "text/plain": [
       "{'a': 1, 'b': 2, 'c': 3}"
      ]
     },
     "execution_count": 45,
     "metadata": {},
     "output_type": "execute_result"
    }
   ],
   "source": [
    "# another way to create a dict with function arguments that are by default strings\n",
    "x = dict(a=1, b=2, c=3)\n",
    "print(type(x))\n",
    "x"
   ]
  },
  {
   "cell_type": "code",
   "execution_count": 46,
   "metadata": {},
   "outputs": [
    {
     "data": {
      "text/plain": [
       "{'a': 1, 'b': 2, 'c': 3}"
      ]
     },
     "execution_count": 46,
     "metadata": {},
     "output_type": "execute_result"
    }
   ],
   "source": [
    "# another way to create a dict with the zip() function and two lists\n",
    "letters = ['a', 'b', 'c']\n",
    "numbers = [1, 2, 3]\n",
    "x = dict(zip(letters, numbers))\n",
    "x"
   ]
  },
  {
   "cell_type": "code",
   "execution_count": 47,
   "metadata": {},
   "outputs": [
    {
     "name": "stdout",
     "output_type": "stream",
     "text": [
      "dict: {'a': 1, 'b': 2, 'c': 3}\n",
      "length: 3\n",
      "keys: dict_keys(['a', 'b', 'c'])\n",
      "values: dict_values([1, 2, 3])\n",
      "items: dict_items([('a', 1), ('b', 2), ('c', 3)])\n",
      "indexing: 1 2 3\n"
     ]
    },
    {
     "ename": "KeyError",
     "evalue": "'d'",
     "output_type": "error",
     "traceback": [
      "\u001b[0;31m---------------------------------------------------------------------------\u001b[0m",
      "\u001b[0;31mKeyError\u001b[0m                                  Traceback (most recent call last)",
      "\u001b[0;32m<ipython-input-47-5fd80332f80b>\u001b[0m in \u001b[0;36m<module>\u001b[0;34m()\u001b[0m\n\u001b[1;32m      6\u001b[0m \u001b[0mprint\u001b[0m\u001b[0;34m(\u001b[0m\u001b[0;34m\"items:\"\u001b[0m\u001b[0;34m,\u001b[0m \u001b[0mx\u001b[0m\u001b[0;34m.\u001b[0m\u001b[0mitems\u001b[0m\u001b[0;34m(\u001b[0m\u001b[0;34m)\u001b[0m\u001b[0;34m)\u001b[0m\u001b[0;34m\u001b[0m\u001b[0m\n\u001b[1;32m      7\u001b[0m \u001b[0mprint\u001b[0m\u001b[0;34m(\u001b[0m\u001b[0;34m'indexing:'\u001b[0m\u001b[0;34m,\u001b[0m \u001b[0mx\u001b[0m\u001b[0;34m[\u001b[0m\u001b[0;34m'a'\u001b[0m\u001b[0;34m]\u001b[0m\u001b[0;34m,\u001b[0m \u001b[0mx\u001b[0m\u001b[0;34m[\u001b[0m\u001b[0;34m'b'\u001b[0m\u001b[0;34m]\u001b[0m\u001b[0;34m,\u001b[0m \u001b[0mx\u001b[0m\u001b[0;34m[\u001b[0m\u001b[0;34m'c'\u001b[0m\u001b[0;34m]\u001b[0m\u001b[0;34m)\u001b[0m\u001b[0;34m\u001b[0m\u001b[0m\n\u001b[0;32m----> 8\u001b[0;31m \u001b[0mprint\u001b[0m\u001b[0;34m(\u001b[0m\u001b[0;34m'bad indexing:'\u001b[0m\u001b[0;34m,\u001b[0m \u001b[0mx\u001b[0m\u001b[0;34m[\u001b[0m\u001b[0;34m'd'\u001b[0m\u001b[0;34m]\u001b[0m\u001b[0;34m)\u001b[0m \u001b[0;31m# ERROR: 'd' is not in the dict!\u001b[0m\u001b[0;34m\u001b[0m\u001b[0m\n\u001b[0m",
      "\u001b[0;31mKeyError\u001b[0m: 'd'"
     ]
    }
   ],
   "source": [
    "x = dict(a=1, b=2, c=3)\n",
    "print(\"dict:\", x)\n",
    "print(\"length:\", len(x))\n",
    "print(\"keys:\", x.keys())\n",
    "print(\"values:\", x.values())\n",
    "print(\"items:\", x.items())\n",
    "print('indexing:', x['a'], x['b'], x['c'])\n",
    "print('bad indexing:', x['d']) # ERROR: 'd' is not in the dict!"
   ]
  },
  {
   "cell_type": "code",
   "execution_count": 49,
   "metadata": {},
   "outputs": [
    {
     "name": "stdout",
     "output_type": "stream",
     "text": [
      "dict: {'a': 1, 'b': 2, 'c': 3}\n",
      "checking 'a' in x: True\n",
      "checking 'd' not in x: True\n",
      "safe indexing: 1\n",
      "safe indexing: None\n",
      "safe indexing: -1\n"
     ]
    }
   ],
   "source": [
    "# safe indexing\n",
    "x = dict(a=1, b=2, c=3)\n",
    "print(\"dict:\", x)\n",
    "print(\"checking 'a' in x:\", 'a' in x)\n",
    "print(\"checking 'd' not in x:\", 'd' not in x)\n",
    "print('safe indexing:', x.get('a')) # in the dict, return the value\n",
    "print('safe indexing:', x.get('d')) # not in the dict, return None\n",
    "print('safe indexing:', x.get('d', -1)) # not in the dict, return whatever we want"
   ]
  },
  {
   "cell_type": "code",
   "execution_count": 50,
   "metadata": {},
   "outputs": [
    {
     "name": "stdout",
     "output_type": "stream",
     "text": [
      "dict: {'a': 1, 'b': 2, 'c': 3}\n",
      "assigning: {'a': 100, 'b': 2, 'c': 3}\n",
      "deleting: {'a': 100, 'c': 3}\n",
      "setting: {'a': 100, 'c': 3, 'd': 200}\n",
      "setdefault, key in dict: {'a': 100, 'c': 3, 'd': 200}\n",
      "setdefault, key not in dict: {'a': 100, 'c': 3, 'd': 200, 'e': 1}\n"
     ]
    }
   ],
   "source": [
    "# modifying the dict\n",
    "x = dict(a=1, b=2, c=3)\n",
    "print(\"dict:\", x)\n",
    "x['a'] = 100;  print(\"assigning:\", x)\n",
    "del x['b'];    print('deleting:', x)\n",
    "x['d'] = 200;  print('setting:', x)\n",
    "x.setdefault('a', 1);  print('setdefault, key in dict:', x)\n",
    "x.setdefault('e', 1);  print('setdefault, key not in dict:', x)"
   ]
  },
  {
   "cell_type": "markdown",
   "metadata": {},
   "source": [
    "### set – a mathematical set\n",
    "\n",
    "Sets are very handy for checking for subsets and duplicates, among other things."
   ]
  },
  {
   "cell_type": "code",
   "execution_count": 51,
   "metadata": {},
   "outputs": [
    {
     "name": "stdout",
     "output_type": "stream",
     "text": [
      "type: <class 'set'>\n",
      "sets x y yy: {1, 2, 3, 4, 5} {1, 3, 5} {3, 5, 7, 9, 11}\n",
      "length: 5 3 5\n",
      "2 in x: True\n",
      "2 in y: False\n",
      "y.issubset(x): True\n",
      "y <= x: True\n",
      "x.issuperset(y): True\n",
      "x >= y: True\n",
      "y.union(yy): {1, 3, 5, 7, 9, 11}\n",
      "y | yy: {1, 3, 5, 7, 9, 11}\n",
      "y.intersection(yy): {3, 5}\n",
      "y & yy: {3, 5}\n",
      "y.difference(yy): {1}\n",
      "y - yy: {1}\n",
      "yy - y: {9, 11, 7}\n",
      "y.symmetric_difference(yy): {1, 7, 9, 11}\n",
      "y ^ yy: {1, 7, 9, 11}\n",
      "yy ^ y: {1, 7, 9, 11}\n"
     ]
    }
   ],
   "source": [
    "x = {1, 2, 3, 4, 5}\n",
    "y = {1, 3, 5}\n",
    "yy = {3, 5, 7, 9, 11}\n",
    "print(\"type:\", type(x))\n",
    "print(\"sets x y yy:\", x, y, yy)\n",
    "print(\"length:\", len(x), len(y), len(yy))\n",
    "print(\"2 in x:\", 2 in x)\n",
    "print(\"2 in y:\", 2 in y)\n",
    "print(\"y.issubset(x):\", y.issubset(x))\n",
    "print(\"y <= x:\", y <= x) # same as above\n",
    "print(\"x.issuperset(y):\", x.issuperset(y))\n",
    "print(\"x >= y:\", x >= y) # same as above\n",
    "print(\"y.union(yy):\", y.union(yy))\n",
    "print(\"y | yy:\", y | yy) # same as above\n",
    "print(\"y.intersection(yy):\", y.intersection(yy))\n",
    "print(\"y & yy:\", y & yy) # same as above\n",
    "print(\"y.difference(yy):\", y.difference(yy))\n",
    "print(\"y - yy:\", y - yy) # same as above\n",
    "print(\"yy - y:\", yy - y) # other way\n",
    "print(\"y.symmetric_difference(yy):\", y.symmetric_difference(yy))\n",
    "print(\"y ^ yy:\", y ^ yy) # same as above\n",
    "print(\"yy ^ y:\", yy ^ y) # other way (identical)"
   ]
  },
  {
   "cell_type": "markdown",
   "metadata": {},
   "source": [
    "## Functions"
   ]
  },
  {
   "cell_type": "markdown",
   "metadata": {},
   "source": [
    "To illustrate how to define and call functions, I use two silly examples:\n",
    "\n",
    "${\\rm add}(x, y, z, n) := (x + y + z)^n$\n",
    "\n",
    "${\\rm sub}(x, y, z, n) := (x - y - z)^n$\n",
    "\n",
    "The example below shows how to write function documentation in triple-quote `\"\"\"` blocks.  You should get in the habit of writing good documentation *as you write* your code if the following situations apply:\n",
    "\n",
    " * Someone else will ever need to use or look at your code\n",
    " * **YOU** will ever need to use or look at your code in the future\n",
    "   * \"the future* could be tomorrow, or after the weekend, or further than that."
   ]
  },
  {
   "cell_type": "code",
   "execution_count": 52,
   "metadata": {},
   "outputs": [],
   "source": [
    "# define a function with some required and some default arguments\n",
    "def add(x, y, z=0, n=1):\n",
    "    \"\"\"adds up to three numbers together n times\n",
    "    \n",
    "    x := the first number to add (required)\n",
    "    y := the second number to add (required)\n",
    "    z := the third number to add (optional: default 0)\n",
    "    n := the number of times to add these numbers together (optional: default 1)\n",
    "    \n",
    "    returns result of (x + y + z)**n\n",
    "    \"\"\"\n",
    "    return (x + y + z)**n\n",
    "\n",
    "def sub(x, y, z=0, n=1):\n",
    "    \"\"\"subtracts up to three numbers n times\n",
    "    \n",
    "    x := the first number to subtract (required)\n",
    "    y := the second number to subtract (required)\n",
    "    z := the third number to subtract (optional: default 0)\n",
    "    n := the number of times to subtract these numbers (optional: default 1)\n",
    "    \n",
    "    returns result of (x - y - z)**n\n",
    "    \"\"\"\n",
    "    return (x - y - z)**n"
   ]
  },
  {
   "cell_type": "markdown",
   "metadata": {},
   "source": [
    "Get some help on the add() function."
   ]
  },
  {
   "cell_type": "code",
   "execution_count": 53,
   "metadata": {},
   "outputs": [
    {
     "name": "stdout",
     "output_type": "stream",
     "text": [
      "Help on function add in module __main__:\n",
      "\n",
      "add(x, y, z=0, n=1)\n",
      "    adds up to three numbers together n times\n",
      "    \n",
      "    x := the first number to add (required)\n",
      "    y := the second number to add (required)\n",
      "    z := the third number to add (optional: default 0)\n",
      "    n := the number of times to add these numbers together (optional: default 1)\n",
      "    \n",
      "    returns result of (x + y + z)**n\n",
      "\n"
     ]
    }
   ],
   "source": [
    "help(add)"
   ]
  },
  {
   "cell_type": "markdown",
   "metadata": {},
   "source": [
    "The jupyter notebook way to get help.  One `?` shows the function documentation."
   ]
  },
  {
   "cell_type": "code",
   "execution_count": 54,
   "metadata": {},
   "outputs": [],
   "source": [
    "add?"
   ]
  },
  {
   "cell_type": "markdown",
   "metadata": {},
   "source": [
    "... and TWO `??` shows the documentation and source code"
   ]
  },
  {
   "cell_type": "code",
   "execution_count": 55,
   "metadata": {},
   "outputs": [],
   "source": [
    "add??"
   ]
  },
  {
   "cell_type": "markdown",
   "metadata": {},
   "source": [
    "Call the function with the required arguments.  `z` and `n` take on the default values"
   ]
  },
  {
   "cell_type": "code",
   "execution_count": 56,
   "metadata": {},
   "outputs": [
    {
     "data": {
      "text/plain": [
       "5"
      ]
     },
     "execution_count": 56,
     "metadata": {},
     "output_type": "execute_result"
    }
   ],
   "source": [
    "add(2, 3)"
   ]
  },
  {
   "cell_type": "markdown",
   "metadata": {},
   "source": [
    "Call the function without required arguments.  ERROR."
   ]
  },
  {
   "cell_type": "code",
   "execution_count": 57,
   "metadata": {},
   "outputs": [
    {
     "ename": "TypeError",
     "evalue": "add() missing 2 required positional arguments: 'x' and 'y'",
     "output_type": "error",
     "traceback": [
      "\u001b[0;31m---------------------------------------------------------------------------\u001b[0m",
      "\u001b[0;31mTypeError\u001b[0m                                 Traceback (most recent call last)",
      "\u001b[0;32m<ipython-input-57-d5d29de3ed94>\u001b[0m in \u001b[0;36m<module>\u001b[0;34m()\u001b[0m\n\u001b[0;32m----> 1\u001b[0;31m \u001b[0madd\u001b[0m\u001b[0;34m(\u001b[0m\u001b[0;34m)\u001b[0m\u001b[0;34m\u001b[0m\u001b[0m\n\u001b[0m",
      "\u001b[0;31mTypeError\u001b[0m: add() missing 2 required positional arguments: 'x' and 'y'"
     ]
    }
   ],
   "source": [
    "add()"
   ]
  },
  {
   "cell_type": "markdown",
   "metadata": {},
   "source": [
    "Call with keyword arguments everywhere: allows an arbitrary order of arguments"
   ]
  },
  {
   "cell_type": "code",
   "execution_count": 59,
   "metadata": {},
   "outputs": [
    {
     "data": {
      "text/plain": [
       "6"
      ]
     },
     "execution_count": 59,
     "metadata": {},
     "output_type": "execute_result"
    }
   ],
   "source": [
    "add(y=3, x=2, z=1)"
   ]
  },
  {
   "cell_type": "markdown",
   "metadata": {},
   "source": [
    "You can also define a function that takes an arbitrary number of positional arguments using `*(name)`."
   ]
  },
  {
   "cell_type": "code",
   "execution_count": 60,
   "metadata": {},
   "outputs": [
    {
     "data": {
      "text/plain": [
       "15"
      ]
     },
     "execution_count": 60,
     "metadata": {},
     "output_type": "execute_result"
    }
   ],
   "source": [
    "def add_alot(*args):\n",
    "    result = 0\n",
    "    for i in args:\n",
    "        result += i\n",
    "    return result\n",
    "\n",
    "add_alot(1, 2, 3, 4, 5)"
   ]
  },
  {
   "cell_type": "markdown",
   "metadata": {},
   "source": [
    "... or an arbitrary number of keyword arguments using `**(name)"
   ]
  },
  {
   "cell_type": "code",
   "execution_count": 61,
   "metadata": {},
   "outputs": [
    {
     "name": "stdout",
     "output_type": "stream",
     "text": [
      "a = 1\n",
      "b = 2\n",
      "c = 3\n",
      "this = that\n",
      "here = there\n"
     ]
    }
   ],
   "source": [
    "def print_kwargs(**kwargs):\n",
    "    for k, v in kwargs.items():\n",
    "        print(k, \"=\", v)\n",
    "        \n",
    "print_kwargs(a=1, b=2, c=3, this='that', here='there')"
   ]
  },
  {
   "cell_type": "markdown",
   "metadata": {},
   "source": [
    "... or a combination of everything"
   ]
  },
  {
   "cell_type": "code",
   "execution_count": 62,
   "metadata": {},
   "outputs": [
    {
     "name": "stdout",
     "output_type": "stream",
     "text": [
      "x+y+z= 6\n",
      "received 5 positional args: (4, 5, 6, 7, 8)\n",
      "received 3 keyword args: {'a': 1, 'b': 2, 'c': 3}\n"
     ]
    }
   ],
   "source": [
    "def example(x, y, z=1, *args, **kwargs):\n",
    "    print(\"x+y+z=\", x + y + z)\n",
    "    print(\"received %i positional args:\" % len(args), args)\n",
    "    print(\"received %i keyword args:\" % len(kwargs), kwargs)\n",
    "\n",
    "example(1, 2, 3, 4, 5, 6, 7, 8, a=1, b=2, c=3)"
   ]
  },
  {
   "cell_type": "markdown",
   "metadata": {},
   "source": [
    "You can also expand sequences (like a list) into positional arguments"
   ]
  },
  {
   "cell_type": "code",
   "execution_count": 63,
   "metadata": {},
   "outputs": [
    {
     "data": {
      "text/plain": [
       "24"
      ]
     },
     "execution_count": 63,
     "metadata": {},
     "output_type": "execute_result"
    }
   ],
   "source": [
    "x = [7, 8, 9]\n",
    "add(*x)"
   ]
  },
  {
   "cell_type": "markdown",
   "metadata": {},
   "source": [
    "Or expand dicts into keyword arguments.  This is useful for building sets of arguments to send to functions multiple times."
   ]
  },
  {
   "cell_type": "code",
   "execution_count": 64,
   "metadata": {},
   "outputs": [
    {
     "name": "stdout",
     "output_type": "stream",
     "text": [
      "a = 10\n",
      "b = 20\n",
      "c = 30\n"
     ]
    }
   ],
   "source": [
    "myargs = dict(a=10, b=20, c=30)\n",
    "print_kwargs(**myargs)"
   ]
  },
  {
   "cell_type": "markdown",
   "metadata": {},
   "source": [
    "Finally, functions can `return` more than one thing.  This just builds a `tuple` with all the things to `return`."
   ]
  },
  {
   "cell_type": "code",
   "execution_count": 65,
   "metadata": {},
   "outputs": [
    {
     "data": {
      "text/plain": [
       "(4, 9)"
      ]
     },
     "execution_count": 65,
     "metadata": {},
     "output_type": "execute_result"
    }
   ],
   "source": [
    "def square_two(x, y):\n",
    "    return x**2, y**2\n",
    "\n",
    "square_two(2, 3)"
   ]
  },
  {
   "cell_type": "markdown",
   "metadata": {},
   "source": [
    "Capturing the result in one variable results in a `tuple`."
   ]
  },
  {
   "cell_type": "code",
   "execution_count": 66,
   "metadata": {},
   "outputs": [
    {
     "name": "stdout",
     "output_type": "stream",
     "text": [
      "<class 'tuple'>\n",
      "(16, 25)\n"
     ]
    }
   ],
   "source": [
    "sq = square_two(4, 5)\n",
    "print(type(sq))\n",
    "print(sq)"
   ]
  },
  {
   "cell_type": "markdown",
   "metadata": {},
   "source": [
    "... or you can capture results directly into the correct number of variables"
   ]
  },
  {
   "cell_type": "code",
   "execution_count": 67,
   "metadata": {},
   "outputs": [
    {
     "name": "stdout",
     "output_type": "stream",
     "text": [
      "36 49\n"
     ]
    }
   ],
   "source": [
    "x2, y2 = square_two(6, 7)\n",
    "print(x2, y2)"
   ]
  },
  {
   "cell_type": "markdown",
   "metadata": {},
   "source": [
    "## functional programming: passing functions, lambda, and map()\n",
    "\n"
   ]
  },
  {
   "cell_type": "markdown",
   "metadata": {},
   "source": [
    "Function names are classes just like any other variable"
   ]
  },
  {
   "cell_type": "code",
   "execution_count": 68,
   "metadata": {},
   "outputs": [
    {
     "name": "stdout",
     "output_type": "stream",
     "text": [
      "<class 'function'>\n"
     ]
    }
   ],
   "source": [
    "print(type(add))"
   ]
  },
  {
   "cell_type": "markdown",
   "metadata": {},
   "source": [
    "... and they can be assigned to other variables, creating an alias."
   ]
  },
  {
   "cell_type": "code",
   "execution_count": 69,
   "metadata": {},
   "outputs": [
    {
     "name": "stdout",
     "output_type": "stream",
     "text": [
      "<class 'function'>\n"
     ]
    },
    {
     "data": {
      "text/plain": [
       "5"
      ]
     },
     "execution_count": 69,
     "metadata": {},
     "output_type": "execute_result"
    }
   ],
   "source": [
    "x = add\n",
    "print(type(add))\n",
    "x(2, 3)"
   ]
  },
  {
   "cell_type": "markdown",
   "metadata": {},
   "source": [
    "... or passed to another function"
   ]
  },
  {
   "cell_type": "code",
   "execution_count": 70,
   "metadata": {},
   "outputs": [
    {
     "name": "stdout",
     "output_type": "stream",
     "text": [
      "6\n",
      "1005\n",
      "0\n"
     ]
    }
   ],
   "source": [
    "def operate_increment(x, y, op, increment=1):\n",
    "    return op(x, y) + increment\n",
    "\n",
    "print(operate_increment(2, 3, add))\n",
    "print(operate_increment(2, 3, add, increment=1000))\n",
    "print(operate_increment(2, 3, sub))"
   ]
  },
  {
   "cell_type": "code",
   "execution_count": 71,
   "metadata": {},
   "outputs": [
    {
     "data": {
      "text/plain": [
       "6"
      ]
     },
     "execution_count": 71,
     "metadata": {},
     "output_type": "execute_result"
    }
   ],
   "source": [
    "operate_increment(2, 3, add)\n",
    "# adds 2 + 3 and increments by 1"
   ]
  },
  {
   "cell_type": "markdown",
   "metadata": {},
   "source": [
    "`lambda` is a shorthand for creating a function.  It is usually used to create short \"throwaway\" functions.  They don't support optional arguments and documentation like `def` does."
   ]
  },
  {
   "cell_type": "code",
   "execution_count": 72,
   "metadata": {},
   "outputs": [
    {
     "data": {
      "text/plain": [
       "1"
      ]
     },
     "execution_count": 72,
     "metadata": {},
     "output_type": "execute_result"
    }
   ],
   "source": [
    "f = lambda x, y: x**2 - y\n",
    "f(2, 3)"
   ]
  },
  {
   "cell_type": "markdown",
   "metadata": {},
   "source": [
    "`lambda` functions are often used to quickly define a function that will be passed to the argument of another function.  This is the beginnings of a third programming paradigm called **functional programming**.  The rabit hole goes deep here."
   ]
  },
  {
   "cell_type": "code",
   "execution_count": 73,
   "metadata": {},
   "outputs": [
    {
     "data": {
      "text/plain": [
       "1001"
      ]
     },
     "execution_count": 73,
     "metadata": {},
     "output_type": "execute_result"
    }
   ],
   "source": [
    "operate_increment(2, 3, lambda x, y: x**2 - y, increment=1000)"
   ]
  },
  {
   "cell_type": "markdown",
   "metadata": {},
   "source": [
    "The builtin function `map()` executes a function on each element of an sequence.  So instead of this:"
   ]
  },
  {
   "cell_type": "code",
   "execution_count": 74,
   "metadata": {},
   "outputs": [
    {
     "name": "stdout",
     "output_type": "stream",
     "text": [
      "x: [1, 2, 3, 4, 5]\n",
      "x_sq: [1, 4, 9, 16, 25]\n"
     ]
    }
   ],
   "source": [
    "x = [1, 2, 3, 4, 5]\n",
    "print(\"x:\", x)\n",
    "x_sq = []\n",
    "for i in x:\n",
    "    x_sq.append(i**2)\n",
    "print(\"x_sq:\", x_sq)"
   ]
  },
  {
   "cell_type": "markdown",
   "metadata": {},
   "source": [
    "You could do this:"
   ]
  },
  {
   "cell_type": "code",
   "execution_count": 75,
   "metadata": {},
   "outputs": [
    {
     "name": "stdout",
     "output_type": "stream",
     "text": [
      "x_sq: [1, 4, 9, 16, 25]\n"
     ]
    }
   ],
   "source": [
    "x_sq = list(map(lambda x: x**2, x))\n",
    "print(\"x_sq:\", x_sq)"
   ]
  },
  {
   "cell_type": "markdown",
   "metadata": {},
   "source": [
    "(Of course, with a numpy `ndarray` you could just do `x_sq = x**2`, but `map()` is generic and so can apply *any* function to any kind of sequence.)"
   ]
  },
  {
   "cell_type": "markdown",
   "metadata": {},
   "source": [
    "## File Input and Output\n",
    "\n",
    "The `open()` function opens a file.  Here is a file on disk:"
   ]
  },
  {
   "cell_type": "code",
   "execution_count": 76,
   "metadata": {},
   "outputs": [
    {
     "name": "stdout",
     "output_type": "stream",
     "text": [
      "one 1\r\n",
      "two 2\r\n",
      "three 3\r\n",
      "four 4\r\n",
      "five 5\r\n"
     ]
    }
   ],
   "source": [
    "!cat testfile.txt"
   ]
  },
  {
   "cell_type": "code",
   "execution_count": 77,
   "metadata": {},
   "outputs": [
    {
     "name": "stdout",
     "output_type": "stream",
     "text": [
      "<class '_io.TextIOWrapper'>\n",
      "one 1\n",
      "\n",
      "two 2\n",
      "\n",
      "three 3\n",
      "\n",
      "four 4\n",
      "\n",
      "five 5\n",
      "\n"
     ]
    }
   ],
   "source": [
    "file = open('testfile.txt')\n",
    "print(type(file))\n",
    "for line in file:\n",
    "    print(line)\n",
    "file.close()"
   ]
  },
  {
   "cell_type": "markdown",
   "metadata": {},
   "source": [
    "(note there are spaces here because the line in the file has a newline **and** the `print()` function adds a newline by default.)\n",
    "\n",
    "Then you can parse the file and turn it into data."
   ]
  },
  {
   "cell_type": "code",
   "execution_count": 78,
   "metadata": {},
   "outputs": [
    {
     "name": "stdout",
     "output_type": "stream",
     "text": [
      "{'one': 1, 'two': 2, 'three': 3, 'four': 4, 'five': 5}\n"
     ]
    }
   ],
   "source": [
    "data = {} # empty dictionary\n",
    "file = open('testfile.txt')\n",
    "for line in file:\n",
    "    k, v = line.split(\" \")\n",
    "    data[k] = int(v)\n",
    "file.close()\n",
    "    \n",
    "print(data)"
   ]
  },
  {
   "cell_type": "markdown",
   "metadata": {},
   "source": [
    "To write to a file, you use `open()` in write mode."
   ]
  },
  {
   "cell_type": "code",
   "execution_count": 79,
   "metadata": {},
   "outputs": [
    {
     "name": "stdout",
     "output_type": "stream",
     "text": [
      "one 1\n",
      "\n",
      "two 4\n",
      "\n",
      "three 9\n",
      "\n",
      "four 16\n",
      "\n",
      "five 25\n",
      "\n"
     ]
    }
   ],
   "source": [
    "newfile = open('testfile2.txt', 'w')\n",
    "for k, v in data.items():\n",
    "    line = \"%s %s\\n\" % (k, v**2) # \\n means \"newline\"\n",
    "    print(line)\n",
    "    newfile.write(line)\n",
    "newfile.close()"
   ]
  },
  {
   "cell_type": "code",
   "execution_count": 80,
   "metadata": {},
   "outputs": [
    {
     "name": "stdout",
     "output_type": "stream",
     "text": [
      "one 1\r\n",
      "two 4\r\n",
      "three 9\r\n",
      "four 16\r\n",
      "five 25\r\n"
     ]
    }
   ],
   "source": [
    "!cat testfile2.txt"
   ]
  },
  {
   "cell_type": "markdown",
   "metadata": {},
   "source": [
    "## A note about file parsing\n",
    "\n",
    "In Science, data formats are as numerous as the stars.  What we have done above is to write a very basic **parser** for a very simple file format.  What you should strive to do is to **never write a parser if you don't have to**.  In general, writing parsers is very time consuming and error prone.  While data you will encounter will arrive in many different formats, there are also many different genreral-purpose parsers available to handle those formats.  Later in this tutorial we will introduce the `numpy` and `astropy` parsers which can save you some time reading in ASCII-formatted data, which is extremely common."
   ]
  },
  {
   "cell_type": "markdown",
   "metadata": {},
   "source": [
    "## Exceptions\n",
    "\n",
    "When something goes wrong in Python, an `Exception` is thrown.  This causes python to stop executing the code, and the exception \"moves up the stack\" where it is can be caught and handled.  If no code catches the `Exception`, execution stops and you will usually see a stack trace, which informs you what the `Exception` was and where it occurred.  Then you get to go into the exciting world of debugging, where you will spend most of your working hours."
   ]
  },
  {
   "cell_type": "code",
   "execution_count": 81,
   "metadata": {},
   "outputs": [
    {
     "name": "stdout",
     "output_type": "stream",
     "text": [
      "doing some work with x and y... 1 2\n",
      "about to divide 1/2\n",
      "great job!: 0.5\n",
      "doing some more work with x and y... 1 2\n",
      "---\n",
      "doing some work with x and y... 2 0\n",
      "about to divide 2/0\n"
     ]
    },
    {
     "ename": "ZeroDivisionError",
     "evalue": "division by zero",
     "output_type": "error",
     "traceback": [
      "\u001b[0;31m---------------------------------------------------------------------------\u001b[0m",
      "\u001b[0;31mZeroDivisionError\u001b[0m                         Traceback (most recent call last)",
      "\u001b[0;32m<ipython-input-81-c2bce3491107>\u001b[0m in \u001b[0;36m<module>\u001b[0;34m()\u001b[0m\n\u001b[1;32m     11\u001b[0m \u001b[0;34m\u001b[0m\u001b[0m\n\u001b[1;32m     12\u001b[0m \u001b[0mdo_work\u001b[0m\u001b[0;34m(\u001b[0m\u001b[0;36m1\u001b[0m\u001b[0;34m,\u001b[0m \u001b[0;36m2\u001b[0m\u001b[0;34m)\u001b[0m\u001b[0;34m\u001b[0m\u001b[0m\n\u001b[0;32m---> 13\u001b[0;31m \u001b[0mdo_work\u001b[0m\u001b[0;34m(\u001b[0m\u001b[0;36m2\u001b[0m\u001b[0;34m,\u001b[0m \u001b[0;36m0\u001b[0m\u001b[0;34m)\u001b[0m\u001b[0;34m\u001b[0m\u001b[0m\n\u001b[0m\u001b[1;32m     14\u001b[0m \u001b[0mdo_work\u001b[0m\u001b[0;34m(\u001b[0m\u001b[0;36m3\u001b[0m\u001b[0;34m,\u001b[0m \u001b[0;36m4\u001b[0m\u001b[0;34m)\u001b[0m\u001b[0;34m\u001b[0m\u001b[0m\n",
      "\u001b[0;32m<ipython-input-81-c2bce3491107>\u001b[0m in \u001b[0;36mdo_work\u001b[0;34m(x, y)\u001b[0m\n\u001b[1;32m      5\u001b[0m     \u001b[0mprint\u001b[0m\u001b[0;34m(\u001b[0m\u001b[0;34m\"doing some work with x and y...\"\u001b[0m\u001b[0;34m,\u001b[0m \u001b[0mx\u001b[0m\u001b[0;34m,\u001b[0m \u001b[0my\u001b[0m\u001b[0;34m)\u001b[0m\u001b[0;34m\u001b[0m\u001b[0m\n\u001b[1;32m      6\u001b[0m     \u001b[0mprint\u001b[0m\u001b[0;34m(\u001b[0m\u001b[0;34m\"about to divide %s/%s\"\u001b[0m \u001b[0;34m%\u001b[0m \u001b[0;34m(\u001b[0m\u001b[0mx\u001b[0m\u001b[0;34m,\u001b[0m \u001b[0my\u001b[0m\u001b[0;34m)\u001b[0m\u001b[0;34m)\u001b[0m\u001b[0;34m\u001b[0m\u001b[0m\n\u001b[0;32m----> 7\u001b[0;31m     \u001b[0mresult\u001b[0m \u001b[0;34m=\u001b[0m \u001b[0mdivide\u001b[0m\u001b[0;34m(\u001b[0m\u001b[0mx\u001b[0m\u001b[0;34m,\u001b[0m \u001b[0my\u001b[0m\u001b[0;34m)\u001b[0m\u001b[0;34m\u001b[0m\u001b[0m\n\u001b[0m\u001b[1;32m      8\u001b[0m     \u001b[0mprint\u001b[0m\u001b[0;34m(\u001b[0m\u001b[0;34m\"great job!:\"\u001b[0m\u001b[0;34m,\u001b[0m \u001b[0mresult\u001b[0m\u001b[0;34m)\u001b[0m\u001b[0;34m\u001b[0m\u001b[0m\n\u001b[1;32m      9\u001b[0m     \u001b[0mprint\u001b[0m\u001b[0;34m(\u001b[0m\u001b[0;34m\"doing some more work with x and y...\"\u001b[0m\u001b[0;34m,\u001b[0m \u001b[0mx\u001b[0m\u001b[0;34m,\u001b[0m \u001b[0my\u001b[0m\u001b[0;34m)\u001b[0m\u001b[0;34m\u001b[0m\u001b[0m\n",
      "\u001b[0;32m<ipython-input-81-c2bce3491107>\u001b[0m in \u001b[0;36mdivide\u001b[0;34m(x, y)\u001b[0m\n\u001b[1;32m      1\u001b[0m \u001b[0;32mdef\u001b[0m \u001b[0mdivide\u001b[0m\u001b[0;34m(\u001b[0m\u001b[0mx\u001b[0m\u001b[0;34m,\u001b[0m \u001b[0my\u001b[0m\u001b[0;34m)\u001b[0m\u001b[0;34m:\u001b[0m\u001b[0;34m\u001b[0m\u001b[0m\n\u001b[0;32m----> 2\u001b[0;31m     \u001b[0;32mreturn\u001b[0m \u001b[0mx\u001b[0m \u001b[0;34m/\u001b[0m \u001b[0my\u001b[0m\u001b[0;34m\u001b[0m\u001b[0m\n\u001b[0m\u001b[1;32m      3\u001b[0m \u001b[0;34m\u001b[0m\u001b[0m\n\u001b[1;32m      4\u001b[0m \u001b[0;32mdef\u001b[0m \u001b[0mdo_work\u001b[0m\u001b[0;34m(\u001b[0m\u001b[0mx\u001b[0m\u001b[0;34m,\u001b[0m \u001b[0my\u001b[0m\u001b[0;34m)\u001b[0m\u001b[0;34m:\u001b[0m\u001b[0;34m\u001b[0m\u001b[0m\n\u001b[1;32m      5\u001b[0m     \u001b[0mprint\u001b[0m\u001b[0;34m(\u001b[0m\u001b[0;34m\"doing some work with x and y...\"\u001b[0m\u001b[0;34m,\u001b[0m \u001b[0mx\u001b[0m\u001b[0;34m,\u001b[0m \u001b[0my\u001b[0m\u001b[0;34m)\u001b[0m\u001b[0;34m\u001b[0m\u001b[0m\n",
      "\u001b[0;31mZeroDivisionError\u001b[0m: division by zero"
     ]
    }
   ],
   "source": [
    "def divide(x, y):\n",
    "    return x / y\n",
    "\n",
    "def do_work(x, y):\n",
    "    print(\"doing some work with x and y...\", x, y)\n",
    "    print(\"about to divide %s/%s\" % (x, y))\n",
    "    result = divide(x, y)\n",
    "    print(\"great job!:\", result)\n",
    "    print(\"doing some more work with x and y...\", x, y)\n",
    "    print(\"---\")\n",
    "    \n",
    "do_work(1, 2)\n",
    "do_work(2, 0)\n",
    "do_work(3, 4)"
   ]
  },
  {
   "cell_type": "markdown",
   "metadata": {},
   "source": [
    "Another example of failure:"
   ]
  },
  {
   "cell_type": "code",
   "execution_count": 82,
   "metadata": {},
   "outputs": [
    {
     "name": "stdout",
     "output_type": "stream",
     "text": [
      "doing some work with x and y... None 2\n",
      "about to divide None/2\n"
     ]
    },
    {
     "ename": "TypeError",
     "evalue": "unsupported operand type(s) for /: 'NoneType' and 'int'",
     "output_type": "error",
     "traceback": [
      "\u001b[0;31m---------------------------------------------------------------------------\u001b[0m",
      "\u001b[0;31mTypeError\u001b[0m                                 Traceback (most recent call last)",
      "\u001b[0;32m<ipython-input-82-68b8800e4dc7>\u001b[0m in \u001b[0;36m<module>\u001b[0;34m()\u001b[0m\n\u001b[0;32m----> 1\u001b[0;31m \u001b[0mdo_work\u001b[0m\u001b[0;34m(\u001b[0m\u001b[0;32mNone\u001b[0m\u001b[0;34m,\u001b[0m \u001b[0;36m2\u001b[0m\u001b[0;34m)\u001b[0m\u001b[0;34m\u001b[0m\u001b[0m\n\u001b[0m",
      "\u001b[0;32m<ipython-input-81-c2bce3491107>\u001b[0m in \u001b[0;36mdo_work\u001b[0;34m(x, y)\u001b[0m\n\u001b[1;32m      5\u001b[0m     \u001b[0mprint\u001b[0m\u001b[0;34m(\u001b[0m\u001b[0;34m\"doing some work with x and y...\"\u001b[0m\u001b[0;34m,\u001b[0m \u001b[0mx\u001b[0m\u001b[0;34m,\u001b[0m \u001b[0my\u001b[0m\u001b[0;34m)\u001b[0m\u001b[0;34m\u001b[0m\u001b[0m\n\u001b[1;32m      6\u001b[0m     \u001b[0mprint\u001b[0m\u001b[0;34m(\u001b[0m\u001b[0;34m\"about to divide %s/%s\"\u001b[0m \u001b[0;34m%\u001b[0m \u001b[0;34m(\u001b[0m\u001b[0mx\u001b[0m\u001b[0;34m,\u001b[0m \u001b[0my\u001b[0m\u001b[0;34m)\u001b[0m\u001b[0;34m)\u001b[0m\u001b[0;34m\u001b[0m\u001b[0m\n\u001b[0;32m----> 7\u001b[0;31m     \u001b[0mresult\u001b[0m \u001b[0;34m=\u001b[0m \u001b[0mdivide\u001b[0m\u001b[0;34m(\u001b[0m\u001b[0mx\u001b[0m\u001b[0;34m,\u001b[0m \u001b[0my\u001b[0m\u001b[0;34m)\u001b[0m\u001b[0;34m\u001b[0m\u001b[0m\n\u001b[0m\u001b[1;32m      8\u001b[0m     \u001b[0mprint\u001b[0m\u001b[0;34m(\u001b[0m\u001b[0;34m\"great job!:\"\u001b[0m\u001b[0;34m,\u001b[0m \u001b[0mresult\u001b[0m\u001b[0;34m)\u001b[0m\u001b[0;34m\u001b[0m\u001b[0m\n\u001b[1;32m      9\u001b[0m     \u001b[0mprint\u001b[0m\u001b[0;34m(\u001b[0m\u001b[0;34m\"doing some more work with x and y...\"\u001b[0m\u001b[0;34m,\u001b[0m \u001b[0mx\u001b[0m\u001b[0;34m,\u001b[0m \u001b[0my\u001b[0m\u001b[0;34m)\u001b[0m\u001b[0;34m\u001b[0m\u001b[0m\n",
      "\u001b[0;32m<ipython-input-81-c2bce3491107>\u001b[0m in \u001b[0;36mdivide\u001b[0;34m(x, y)\u001b[0m\n\u001b[1;32m      1\u001b[0m \u001b[0;32mdef\u001b[0m \u001b[0mdivide\u001b[0m\u001b[0;34m(\u001b[0m\u001b[0mx\u001b[0m\u001b[0;34m,\u001b[0m \u001b[0my\u001b[0m\u001b[0;34m)\u001b[0m\u001b[0;34m:\u001b[0m\u001b[0;34m\u001b[0m\u001b[0m\n\u001b[0;32m----> 2\u001b[0;31m     \u001b[0;32mreturn\u001b[0m \u001b[0mx\u001b[0m \u001b[0;34m/\u001b[0m \u001b[0my\u001b[0m\u001b[0;34m\u001b[0m\u001b[0m\n\u001b[0m\u001b[1;32m      3\u001b[0m \u001b[0;34m\u001b[0m\u001b[0m\n\u001b[1;32m      4\u001b[0m \u001b[0;32mdef\u001b[0m \u001b[0mdo_work\u001b[0m\u001b[0;34m(\u001b[0m\u001b[0mx\u001b[0m\u001b[0;34m,\u001b[0m \u001b[0my\u001b[0m\u001b[0;34m)\u001b[0m\u001b[0;34m:\u001b[0m\u001b[0;34m\u001b[0m\u001b[0m\n\u001b[1;32m      5\u001b[0m     \u001b[0mprint\u001b[0m\u001b[0;34m(\u001b[0m\u001b[0;34m\"doing some work with x and y...\"\u001b[0m\u001b[0;34m,\u001b[0m \u001b[0mx\u001b[0m\u001b[0;34m,\u001b[0m \u001b[0my\u001b[0m\u001b[0;34m)\u001b[0m\u001b[0;34m\u001b[0m\u001b[0m\n",
      "\u001b[0;31mTypeError\u001b[0m: unsupported operand type(s) for /: 'NoneType' and 'int'"
     ]
    }
   ],
   "source": [
    "do_work(None, 2)"
   ]
  },
  {
   "cell_type": "markdown",
   "metadata": {},
   "source": [
    "If you suspect some piece of code will go wrong in a predictable way that you can handle, then you can catch the exception and do something else."
   ]
  },
  {
   "cell_type": "code",
   "execution_count": 83,
   "metadata": {},
   "outputs": [
    {
     "name": "stdout",
     "output_type": "stream",
     "text": [
      "doing some work with x and y... 1 2\n",
      "about to divide 1/2\n",
      "great job!: 0.5\n",
      "doing some more work with x and y... 1 2\n",
      "---\n",
      "doing some work with x and y... 2 0\n",
      "about to divide 2/0\n",
      "Oops, can't divide by zero! Setting result to None.\n",
      "great job!: None\n",
      "doing some more work with x and y... 2 0\n",
      "---\n",
      "doing some work with x and y... 3 4\n",
      "about to divide 3/4\n",
      "great job!: 0.75\n",
      "doing some more work with x and y... 3 4\n",
      "---\n",
      "doing some work with x and y... None 2\n",
      "about to divide None/2\n",
      "Something bad happened: unsupported operand type(s) for /: 'NoneType' and 'int'\n",
      "Oh well, carry on!\n",
      "great job!: -1\n",
      "doing some more work with x and y... None 2\n",
      "---\n"
     ]
    }
   ],
   "source": [
    "def do_work2(x, y):\n",
    "    print(\"doing some work with x and y...\", x, y)\n",
    "    print(\"about to divide %s/%s\" % (x, y))\n",
    "    try:\n",
    "        result = divide(x, y)\n",
    "    except ZeroDivisionError:\n",
    "        print(\"Oops, can't divide by zero! Setting result to None.\")\n",
    "        result = None\n",
    "    except Exception as e:\n",
    "        print(\"Something bad happened:\", e)\n",
    "        print(\"Oh well, carry on!\")\n",
    "        result = -1\n",
    "    print(\"great job!:\", result)\n",
    "    print(\"doing some more work with x and y...\", x, y)\n",
    "    print(\"---\")\n",
    "    \n",
    "do_work2(1, 2)\n",
    "do_work2(2, 0)\n",
    "do_work2(3, 4)\n",
    "do_work2(None, 2)"
   ]
  },
  {
   "cell_type": "markdown",
   "metadata": {},
   "source": [
    "The most general exception type is `Exception`, which you can use to handle anything that goes wrong.\n",
    "\n",
    "In general it is bad practice to catch a generic `Exception` and carry on.  It is better to check the function inputs and inform the user they put something bad in, or to just let the code fail and let the exception tell them.  This way the problem gets fixed at the source.\n",
    "\n",
    "But, sometimes it is the best way to just skip a few problematic cases and let the rest work as intended."
   ]
  },
  {
   "cell_type": "markdown",
   "metadata": {},
   "source": [
    "## Other Python standard libraries of note for data analysis\n",
    "\n",
    "There are dozens of standard libraries in python that help with a huge range of tasks, from implementing cryptography to parsing emails and web pages.  For data analysis, there are a few that come up again and again, and I'll mention those parts briefly here."
   ]
  },
  {
   "cell_type": "markdown",
   "metadata": {},
   "source": [
    "### sys\n",
    "\n",
    "`sys` contains utilities for inspecting your the interpreter, i.e. the \"system\" python is running on."
   ]
  },
  {
   "cell_type": "code",
   "execution_count": 84,
   "metadata": {},
   "outputs": [],
   "source": [
    "import sys"
   ]
  },
  {
   "cell_type": "markdown",
   "metadata": {},
   "source": [
    "`sys.argv` contains the arguments passed to a python script.  This is not useful at all in the jupyter environment, so here is an example of a command-line script:"
   ]
  },
  {
   "cell_type": "code",
   "execution_count": 86,
   "metadata": {},
   "outputs": [
    {
     "name": "stdout",
     "output_type": "stream",
     "text": [
      "#!/usr/bin/env python\r\n",
      "\r\n",
      "import sys\r\n",
      "\r\n",
      "print(\"command line arguments:\", sys.argv)\r\n",
      "x = float(sys.argv[1])\r\n",
      "print(\"squared:\", x**2)\r\n"
     ]
    }
   ],
   "source": [
    "!cat cmd_example.py"
   ]
  },
  {
   "cell_type": "code",
   "execution_count": 87,
   "metadata": {},
   "outputs": [
    {
     "name": "stdout",
     "output_type": "stream",
     "text": [
      "command line arguments: ['cmd_example.py', '2', '4', '6', '8', 'who', 'do', 'we', 'appreciate']\r\n",
      "squared: 4.0\r\n"
     ]
    }
   ],
   "source": [
    "!python cmd_example.py 2 4 6 8 who do we appreciate"
   ]
  },
  {
   "cell_type": "markdown",
   "metadata": {},
   "source": [
    "`sys.path` shows the python library path, i.e. all the places python will look to find modules you can `import`."
   ]
  },
  {
   "cell_type": "code",
   "execution_count": 88,
   "metadata": {},
   "outputs": [
    {
     "name": "stdout",
     "output_type": "stream",
     "text": [
      "['', '/opt/local/Library/Frameworks/Python.framework/Versions/3.6/lib/python36.zip', '/opt/local/Library/Frameworks/Python.framework/Versions/3.6/lib/python3.6', '/opt/local/Library/Frameworks/Python.framework/Versions/3.6/lib/python3.6/site-packages/readline', '/opt/local/Library/Frameworks/Python.framework/Versions/3.6/lib/python3.6/lib-dynload', '/opt/local/Library/Frameworks/Python.framework/Versions/3.6/lib/python3.6/site-packages', '/opt/local/Library/Frameworks/Python.framework/Versions/3.6/lib/python3.6/site-packages/IPython/extensions', '/Users/egeland/.ipython']\n"
     ]
    }
   ],
   "source": [
    "print(sys.path)"
   ]
  },
  {
   "cell_type": "markdown",
   "metadata": {},
   "source": [
    "### os\n",
    "\n",
    "`os` contains utilities for inspecting and interacting with your operating system.  This includes things for moving around directories, changing file names, checking whether a path is a file or a directory, etc etc etc."
   ]
  },
  {
   "cell_type": "code",
   "execution_count": 89,
   "metadata": {},
   "outputs": [],
   "source": [
    "import os"
   ]
  },
  {
   "cell_type": "markdown",
   "metadata": {},
   "source": [
    "This example shows the current working directory:"
   ]
  },
  {
   "cell_type": "code",
   "execution_count": 94,
   "metadata": {},
   "outputs": [
    {
     "name": "stdout",
     "output_type": "stream",
     "text": [
      "current directory: /Users/egeland/Code/python_tutorial\n",
      "new directory: /Users/egeland/Code\n",
      "back again: /Users/egeland/Code/python_tutorial\n"
     ]
    }
   ],
   "source": [
    "print(\"current directory:\", os.getcwd())\n",
    "os.chdir(\"..\") # move up a directory\n",
    "print(\"new directory:\", os.getcwd())\n",
    "os.chdir(\"python_tutorial\") # move back\n",
    "print(\"back again:\", os.getcwd())"
   ]
  },
  {
   "cell_type": "markdown",
   "metadata": {},
   "source": [
    "Here we list the contents of this directory:"
   ]
  },
  {
   "cell_type": "code",
   "execution_count": 95,
   "metadata": {},
   "outputs": [
    {
     "data": {
      "text/plain": [
       "['hello.py',\n",
       " 'Python Tutorial.ipynb',\n",
       " 'cak.parameters',\n",
       " 'example_plot.pdf',\n",
       " 'cak_range.pdf',\n",
       " 'moduleB.py',\n",
       " '__pycache__',\n",
       " 'x.txt',\n",
       " 'moduleA.py',\n",
       " 'example.pickle',\n",
       " 'cmd_example2.py',\n",
       " 'cmd_example.py',\n",
       " 'x.npy',\n",
       " '.ipynb_checkpoints',\n",
       " 'testfile.txt',\n",
       " '.git',\n",
       " 'testfile2.txt',\n",
       " 'example_plot2.pdf']"
      ]
     },
     "execution_count": 95,
     "metadata": {},
     "output_type": "execute_result"
    }
   ],
   "source": [
    "os.listdir()"
   ]
  },
  {
   "cell_type": "markdown",
   "metadata": {},
   "source": [
    "### os.path\n",
    "\n",
    "`os.path` contains utilities for building and parsing pathnames.  It is cross-platform, so you can write code that safely manipulates paths for e.g. Linux and Windows, which use different conventions for paths."
   ]
  },
  {
   "cell_type": "code",
   "execution_count": null,
   "metadata": {},
   "outputs": [],
   "source": [
    "import os.path\n",
    "\n",
    "filepath = os.path.join(os.getcwd(), 'hello.py')\n",
    "print(\"complete file path:\", filepath)\n",
    "print(\"file is in directory:\", os.path.dirname(filepath))\n",
    "print(\"file is called:\", os.path.basename(filepath))\n",
    "print(\"filepath exists?:\", os.path.exists(filepath))\n",
    "print(\"filepath is a file?:\", os.path.isfile(filepath))\n",
    "print(\"filepath is a directory?:\", os.path.isdir(filepath))"
   ]
  },
  {
   "cell_type": "markdown",
   "metadata": {},
   "source": [
    "### math and statistics\n",
    "\n",
    "`math` is the Python standard library for mathematics, which contains basic operations (think scientific calculator buttons).  Similarily, `statistics` contains Stats 101 functions, like `mean()`, `stddev()`, etc.\n",
    "\n",
    "For real work you should use `numpy`, but you might see some of these `math` and `statistics` functions here and there."
   ]
  },
  {
   "cell_type": "code",
   "execution_count": null,
   "metadata": {},
   "outputs": [],
   "source": [
    "import math\n",
    "\n",
    "print('pi:', math.pi)\n",
    "print('e:', math.e)\n",
    "print(\"sin(60 deg):\", math.sin(math.radians(60)))\n",
    "print(\"sqrt(2):\", math.sqrt(2))\n",
    "print(\"ln(1):\", math.log(1))\n",
    "print(\"log(100):\", math.log10(100.))\n",
    "print(\"e^2:\", math.exp(2))\n",
    "# etc..."
   ]
  },
  {
   "cell_type": "code",
   "execution_count": null,
   "metadata": {},
   "outputs": [],
   "source": [
    "import statistics\n",
    "x = [1.0, 1.5, 2.0, 2.5, 3.0]\n",
    "print(\"x:\", x)\n",
    "print(\"mean(x):\", statistics.mean(x))\n",
    "print(\"stdev(x):\", statistics.stdev(x))\n",
    "print(\"median(x):\", statistics.median(x))"
   ]
  },
  {
   "cell_type": "markdown",
   "metadata": {},
   "source": [
    "### pickle\n",
    "\n",
    "`pickle` is the Python standard way to save arbitrary data structures to a file and read them back.  This can be useful to e.g. save data with one python script and process it with another.  Or to send some data to a colleague for them to play with with their python code.\n",
    "\n",
    "Note that unlike ASCII text files, pickles are python-only.  But arbitrarily complicated data structures can easily be saved in a pickle, which is the major advantage over ASCII."
   ]
  },
  {
   "cell_type": "code",
   "execution_count": null,
   "metadata": {},
   "outputs": [],
   "source": [
    "import pickle\n",
    "\n",
    "data = {\n",
    "    'a': [1, 2.0, 3, 4+6j],\n",
    "    'b': (\"character string\", b\"byte string\"),\n",
    "    'c': {None, True, False}\n",
    "}\n",
    "\n",
    "pickle.dump(data, open('example.pickle', 'wb'))\n",
    "!ls -l example.pickle"
   ]
  },
  {
   "cell_type": "markdown",
   "metadata": {},
   "source": [
    "...later, in another program..."
   ]
  },
  {
   "cell_type": "code",
   "execution_count": null,
   "metadata": {},
   "outputs": [],
   "source": [
    "x = pickle.load(open('example.pickle', 'rb'))\n",
    "print('original:', data)\n",
    "print('pickled: ', x)"
   ]
  },
  {
   "cell_type": "markdown",
   "metadata": {},
   "source": [
    "### re – python regular expressions\n",
    "\n",
    "Regular expressions are a (quite complex) mini-language for finding and extracting substrings out of strings.  This comes up in data analysis, for example, when you have some data files you need to process and important meta-data is in the file name itself!"
   ]
  },
  {
   "cell_type": "code",
   "execution_count": null,
   "metadata": {},
   "outputs": [],
   "source": [
    "import re\n",
    "\n",
    "filename1 = \"spectra_30_to_300_nm.dat\"\n",
    "filename2 = \"spectra_300_to_700_nm.dat\"\n",
    "filename3 = \"shopping_list.dat\"\n",
    "\n",
    "for f in (filename1, filename2, filename3):\n",
    "    print(\"processing\", f)\n",
    "    match = re.search(\"spectra_(\\d+)_to_(\\d+)_nm.dat\", f) # (\\d+) means \"one or more digits\"\n",
    "    if match:\n",
    "        start = int(match.group(1))\n",
    "        stop = int(match.group(2))\n",
    "        print(\"  wavelength range from %i to %i nm (%i nm range)\" % (start, stop, stop-start))\n",
    "    else:\n",
    "        print(\"  invalid filename format\")"
   ]
  },
  {
   "cell_type": "markdown",
   "metadata": {},
   "source": [
    "### argparse – command-line arguments\n",
    "\n",
    "`argparse` helps you make programs you call from the command-line with options, argument lists, etc.  It assists you in generating `--help` output so that when you forget how the program you just wrote works, you can get help."
   ]
  },
  {
   "cell_type": "code",
   "execution_count": null,
   "metadata": {},
   "outputs": [],
   "source": [
    "!cat cmd_example2.py\n",
    "!echo \"--- help: ---\"\n",
    "!echo ./cmd_example2.py --help\n",
    "!./cmd_example2.py --help\n",
    "!echo \"--- example: ---\"\n",
    "!echo ./cmd_example2.py --power 3 2\n",
    "!./cmd_example2.py --power 3 2"
   ]
  },
  {
   "cell_type": "markdown",
   "metadata": {},
   "source": [
    "# Python for Science\n",
    "\n",
    "Now (**finally**) we move on to `numpy`, `matplotlib`, and `scipy`, the core packages for doing numerical/data analysis work in Python."
   ]
  },
  {
   "cell_type": "markdown",
   "metadata": {},
   "source": [
    "## numpy – Numerical Python"
   ]
  },
  {
   "cell_type": "code",
   "execution_count": null,
   "metadata": {},
   "outputs": [],
   "source": [
    "import numpy as np"
   ]
  },
  {
   "cell_type": "code",
   "execution_count": null,
   "metadata": {},
   "outputs": [],
   "source": [
    "x = np.array([[1., 2., 3.], [4., 5., 6.], [7., 8., 9.]]) # define a 3 x 3 matrix\n",
    "y = x * 10 # make another one\n",
    "z = np.array([[1.1, 2.2, 3.3], [4.4, 5.5, 6.6]])\n",
    "print(\"x:\\n\", x)\n",
    "print(\"y:\\n\", y)\n",
    "print(\"z:\\n\", z)"
   ]
  },
  {
   "cell_type": "markdown",
   "metadata": {},
   "source": [
    "### ndarray properties"
   ]
  },
  {
   "cell_type": "code",
   "execution_count": null,
   "metadata": {},
   "outputs": [],
   "source": [
    "print(\"type(x):\", type(x))\n",
    "print(\"x.ndim:\", x.ndim) # number of dimensions\n",
    "print(\"x.shape:\", x.shape) # size of arrays in each dimension\n",
    "print(\"x.size:\", x.size) # total number of elements in the array\n",
    "print(\"x.dtype:\", x.dtype) # type of array e.g. numpy.int32, numpy.int16, and numpy.float64"
   ]
  },
  {
   "cell_type": "markdown",
   "metadata": {},
   "source": [
    "### ndarray math"
   ]
  },
  {
   "cell_type": "code",
   "execution_count": null,
   "metadata": {},
   "outputs": [],
   "source": [
    "print(\"sum:\\n\", x + y)\n",
    "print(\"sum with scalar: x + 3:\\n\", x + 3)\n",
    "print(\"difference:\\n\", x - y)\n",
    "print(\"(elementwise) product:\\n\", x * y)\n",
    "print(\"quotient:\\n\", x / y)\n",
    "print(\"power:\\n\", x ** y)\n",
    "print(\"negation:\\n\", -x)\n",
    "print(\"absolute value:\\n\", abs(-x))\n",
    "print(\"matrix product: x.dot(y):\\n\", x.dot(y))\n",
    "print(\"cross product: np.cross(x[0], x[1]):\\n\", np.cross(x[0], x[1]))"
   ]
  },
  {
   "cell_type": "markdown",
   "metadata": {},
   "source": [
    "### bad math"
   ]
  },
  {
   "cell_type": "code",
   "execution_count": null,
   "metadata": {},
   "outputs": [],
   "source": [
    "print(\"x:\\n\", x)\n",
    "print(\"z:\\n\", z)\n",
    "print(\"sum x + z:\\n\", x + z)"
   ]
  },
  {
   "cell_type": "markdown",
   "metadata": {},
   "source": [
    "### numpy mathematical functions\n",
    "\n",
    "Numpy has all the usual functions found on a scientific calculator, and more.  See [here](https://docs.scipy.org/doc/numpy/reference/ufuncs.html) for a list."
   ]
  },
  {
   "cell_type": "code",
   "execution_count": null,
   "metadata": {},
   "outputs": [],
   "source": [
    "print(\"np.sin(np.pi/2):\", np.sin(np.pi/2))\n",
    "print(\"np.cos(np.pi/2):\", np.cos(np.pi/2)) # note: machine-precision zero\n",
    "print(\"np.tan(np.pi/2):\", np.tan(np.pi/2)) # note: \"infinity\"\n",
    "print(\"np.log(np.e):\", np.log(np.e))\n",
    "print(\"np.log10(10.):\", np.log10(10.))\n",
    "print(\"np.log(-1):\", np.log(-1))"
   ]
  },
  {
   "cell_type": "markdown",
   "metadata": {},
   "source": [
    "### np.nan – not a number\n",
    "\n",
    "`np.nan` is a special floating-point value which represents \"not a number\", and is the result of an invalid operation.  It is \"sticky,\" in the sense that further operations with `np.nan` also result in `np.nan`."
   ]
  },
  {
   "cell_type": "code",
   "execution_count": null,
   "metadata": {},
   "outputs": [],
   "source": [
    "x = np.log(-1)\n",
    "print(\"x:\", x)\n",
    "print(\"type(x):\", type(x))\n",
    "print(\"np.isnan(x):\", np.isnan(x))\n",
    "print(\"x+1:\", x+1)\n",
    "print(\"np.log(x):\", np.log(x))"
   ]
  },
  {
   "cell_type": "markdown",
   "metadata": {},
   "source": [
    "### np.inf – infinity\n",
    "\n",
    "`np.inf` is another special value that represents infinity."
   ]
  },
  {
   "cell_type": "code",
   "execution_count": null,
   "metadata": {},
   "outputs": [],
   "source": [
    "x = np.array(1) / np.array(0)\n",
    "print(\"x:\", x)\n",
    "print(\"type(x):\", type(x))\n",
    "print(\"np.isinf(x):\", np.isinf(x))\n",
    "print(\"x+1:\", x+1)\n",
    "print(\"np.log(x):\", np.log(x))\n",
    "print(\"1/x:\", 1/x)"
   ]
  },
  {
   "cell_type": "markdown",
   "metadata": {},
   "source": [
    "### numpy statistical functions\n",
    "\n",
    "Numpy has basic statstical functions.  See https://docs.scipy.org/doc/numpy/reference/routines.statistics.html for a full list."
   ]
  },
  {
   "cell_type": "code",
   "execution_count": null,
   "metadata": {},
   "outputs": [],
   "source": [
    "x = np.arange(5, dtype='float')\n",
    "x[-1] = 20. # skew it a bit\n",
    "print(\"x:\", x)\n",
    "print(\"np.mean(x):\", np.mean(x))\n",
    "print(\"np.std(x):\", np.std(x))\n",
    "print(\"np.median(x):\", np.median(x))\n",
    "print(\"np.max(x):\", np.max(x))\n",
    "print(\"np.min(x):\", np.min(x))"
   ]
  },
  {
   "cell_type": "markdown",
   "metadata": {},
   "source": [
    "### printing a big array\n",
    "\n",
    "Large arrays are summarized by default."
   ]
  },
  {
   "cell_type": "code",
   "execution_count": null,
   "metadata": {},
   "outputs": [],
   "source": [
    "big = np.arange(10000).reshape(100,100) # creates a 100 x 100 array\n",
    "print(big)"
   ]
  },
  {
   "cell_type": "markdown",
   "metadata": {},
   "source": [
    "If you need to see everything, either print row-by-row in a `for` loop, or change the default behavior:"
   ]
  },
  {
   "cell_type": "code",
   "execution_count": null,
   "metadata": {
    "scrolled": true
   },
   "outputs": [],
   "source": [
    "np.set_printoptions(threshold=np.nan)\n",
    "print(big)"
   ]
  },
  {
   "cell_type": "code",
   "execution_count": null,
   "metadata": {},
   "outputs": [],
   "source": [
    "# set it back\n",
    "np.set_printoptions(threshold=1000)"
   ]
  },
  {
   "cell_type": "markdown",
   "metadata": {},
   "source": [
    "### indexing and slicing"
   ]
  },
  {
   "cell_type": "code",
   "execution_count": null,
   "metadata": {},
   "outputs": [],
   "source": [
    "x = np.arange(9).reshape((3,3)) + 1\n",
    "print(\"x:\\n\", x)\n",
    "print(\"first row: x[0]:\", x[0])\n",
    "print(\"second row: x[1]\", x[1])\n",
    "print(\"first col: x[:,0]\", x[:,0])\n",
    "print(\"second col: x[:,1]\", x[:,1])\n",
    "print(\"top left x[0:2,0:2]:\\n\", x[0:2,0:2])\n",
    "print(\"bottom right: x[1:3,1:3]:\\n\", x[1:3,1:3])\n",
    "print(\"diagonal: x.diagonal()\", x.diagonal())\n",
    "sel = np.array([[False, False, False],[False, True, False],[False, False, False]])\n",
    "print(\"a boolean index or 'mask', sel=\\n\", sel)\n",
    "print(\"boolean indexing, x[sel]=\\n\", x[sel])\n",
    "print(\"the inverse mask, np.logical_not(sel):\\n\", np.logical_not(sel))\n",
    "i = np.array([ 0, 1 ])\n",
    "j = np.array([ 0, 1 ])\n",
    "print(\"an array of indices: i, j\", i, j)\n",
    "print(\"index array indexing, x[i,j]=\\n\", x[i,j])"
   ]
  },
  {
   "cell_type": "markdown",
   "metadata": {},
   "source": [
    "### boolean array selections with logical operators"
   ]
  },
  {
   "cell_type": "code",
   "execution_count": null,
   "metadata": {},
   "outputs": [],
   "source": [
    "x = np.arange(9).reshape((3,3)) + 1\n",
    "print(\"x (before)\\n:\", x)\n",
    "sel = x >= 5\n",
    "print(\"sel:\\n\", sel)\n",
    "print(\"x[sel]:\\n\", x[sel])\n",
    "x[sel] = -1 # modify\n",
    "print(\"x (after):\\n\", x)"
   ]
  },
  {
   "cell_type": "markdown",
   "metadata": {},
   "source": [
    "Use bitwise \"and\" (`&`) and bitwise \"or\" (`^`) operators on boolean arrays to do more complex selections."
   ]
  },
  {
   "cell_type": "code",
   "execution_count": null,
   "metadata": {},
   "outputs": [],
   "source": [
    "x = np.arange(9).reshape((3,3)) + 1\n",
    "print(\"x (before):\\n\", x)\n",
    "sel = (x > 5) & (x % 2 == 0) # even numbers greater than 5\n",
    "print(\"sel:\\n\", sel)\n",
    "print(\"x[sel]:\\n\", x[sel])\n",
    "x[sel] = -1 # modify\n",
    "print(\"x (after):\\n\", x)"
   ]
  },
  {
   "cell_type": "markdown",
   "metadata": {},
   "source": [
    "### indice selections with where()\n",
    "\n",
    "`np.where()` also allows you to do selections on the data, but returns indice arrays instead of boolean arrays."
   ]
  },
  {
   "cell_type": "code",
   "execution_count": null,
   "metadata": {},
   "outputs": [],
   "source": [
    "x = np.arange(9).reshape((3,3)) + 1\n",
    "print(\"x (before):\\n\", x)\n",
    "sel = np.where(x > 5)\n",
    "print(\"sel:\\n\", sel)\n",
    "print(\"x[sel]:\\n\", x[sel])"
   ]
  },
  {
   "cell_type": "markdown",
   "metadata": {},
   "source": [
    "### intializing arrays"
   ]
  },
  {
   "cell_type": "code",
   "execution_count": null,
   "metadata": {},
   "outputs": [],
   "source": [
    "print(\"zeros:\", np.zeros(5))\n",
    "print(\"zeros (5x5):\\n\", np.zeros((5,5)))\n",
    "print(\"ones:\", np.ones(5))\n",
    "print(\"fives:\", np.ones(5) * 5)\n",
    "print(\"nans:\", np.ones(5) * np.nan)\n",
    "print(\"Trues:\", np.ones(5, dtype='bool'))\n",
    "print(\"Falses:\", np.zeros(5, dtype='bool'))\n",
    "print(\"x:\\n\", x)\n",
    "print(\"zeroes_like(x):\\n\", np.zeros_like(x))\n",
    "print(\"ones_like(x):\\n\", np.ones_like(x))\n",
    "print(\"arange ints [0–5]:\", np.arange(5))\n",
    "print(\"arange floats [0.–5.]:\", np.arange(5, dtype=float))\n",
    "print(\"arange [10–30], mod 5:\", np.arange(10, 30+1, 5))\n",
    "print(\"linspace [0–10], 5 elements:\", np.linspace(0., 10., 5))\n",
    "print(\"linspace [0–11], 5 elements:\", np.linspace(0., 11., 5))"
   ]
  },
  {
   "cell_type": "markdown",
   "metadata": {},
   "source": [
    "### array references and copying\n",
    "\n",
    "An assignment (`=`) simply creates an alias of an array that points to the same data."
   ]
  },
  {
   "cell_type": "code",
   "execution_count": null,
   "metadata": {},
   "outputs": [],
   "source": [
    "x = np.arange(9).reshape((3,3))\n",
    "print(\"x (before):\\n\", x)\n",
    "a = x\n",
    "print(\"a:\\n\", a)\n",
    "a[1,1] = -100\n",
    "print(\"x (after):\\n\", a)"
   ]
  },
  {
   "cell_type": "markdown",
   "metadata": {},
   "source": [
    "The same is true when passing an array to a function, since in python all mutable objects are passed by references. "
   ]
  },
  {
   "cell_type": "code",
   "execution_count": null,
   "metadata": {},
   "outputs": [],
   "source": [
    "def modify(a):\n",
    "    a[1,1] = -100\n",
    "    \n",
    "x = np.arange(9).reshape((3,3))\n",
    "print(\"x (before):\\n\", x)\n",
    "modify(x)\n",
    "print(\"x (after):\\n\", x)"
   ]
  },
  {
   "cell_type": "markdown",
   "metadata": {},
   "source": [
    "And slices of an array are also an alias to a subset of the original data (called a \"view\"):"
   ]
  },
  {
   "cell_type": "code",
   "execution_count": null,
   "metadata": {},
   "outputs": [],
   "source": [
    "x = np.arange(9).reshape((3,3))\n",
    "print(\"x (before):\\n\", x)\n",
    "a = x[1:,1:]\n",
    "print(\"a (before):\\n\", a)\n",
    "a[0,0] = -100\n",
    "print(\"a (after):\\n\", a)\n",
    "print(\"x (after):\\n\", x)"
   ]
  },
  {
   "cell_type": "markdown",
   "metadata": {},
   "source": [
    "To actually duplicate an array, use `copy()`."
   ]
  },
  {
   "cell_type": "code",
   "execution_count": null,
   "metadata": {},
   "outputs": [],
   "source": [
    "x = np.arange(9).reshape((3,3))\n",
    "print(\"x (before):\\n\", x)\n",
    "a = x.copy()\n",
    "print(\"a (before):\\n\", a)\n",
    "a[1,1] = -100\n",
    "print(\"a (after):\\n\", a)\n",
    "print(\"x (after):\\n\", x)"
   ]
  },
  {
   "cell_type": "markdown",
   "metadata": {},
   "source": [
    "### masked arrrays\n",
    "\n",
    "Masked arrays are like a normal numpy array with an attached boolean array (of the same dimensions) that contains the mask.  The mask is used to indicate bad or missing data from an otherwise good array of data.  Mathematical operations can then be done on the masked array *seamlessly ignoring the problematic data*.  This is especially useful when the bad or missing data would cause the routine to completely fail.\n",
    "\n",
    "Working with masked arrays can sometimes be surprising or tricky.  Refer to the documentation https://docs.scipy.org/doc/numpy/reference/maskedarray.generic.html"
   ]
  },
  {
   "cell_type": "code",
   "execution_count": null,
   "metadata": {},
   "outputs": [],
   "source": [
    "x = np.ma.array([1, -2, 3], mask=[0, 1, 0])\n",
    "print(\"x:\", x)\n",
    "print(\"type(x):\", type(x))\n",
    "print(\"x.data:\", x.data)\n",
    "print(\"x.mask:\", x.mask)\n",
    "print(\"np.sum(x):\", np.sum(x))\n",
    "y = x**2\n",
    "print(\"y:\", y)\n",
    "print(\"y.data:\", y.data)\n",
    "z = np.log(x)\n",
    "print(\"z:\", z)\n",
    "print(\"z.data:\", z.data)"
   ]
  },
  {
   "cell_type": "markdown",
   "metadata": {},
   "source": [
    "### numpy I/O\n",
    "\n",
    "You can save and load numpy arrays to an efficient binary file."
   ]
  },
  {
   "cell_type": "code",
   "execution_count": null,
   "metadata": {},
   "outputs": [],
   "source": [
    "x = np.arange(9).reshape((3,3))\n",
    "print(\"x:\", x)\n",
    "np.save(\"x\", x)\n",
    "!ls x*\n",
    "xx = np.load(\"x.npy\")\n",
    "print(\"xx:\", xx)"
   ]
  },
  {
   "cell_type": "markdown",
   "metadata": {},
   "source": [
    "You can also save and load simple ASCII text files with `savetxt()` and `loadtxt()`.  Look at the documentation for the parsing fatures they support, which are basic."
   ]
  },
  {
   "cell_type": "code",
   "execution_count": null,
   "metadata": {},
   "outputs": [],
   "source": [
    "x = np.arange(9).reshape((3,3))\n",
    "print(\"x:\", x)\n",
    "print(\"x.dtype:\", x.dtype)\n",
    "np.savetxt(\"x.txt\", x, header=\"col1 col2 col3\")\n",
    "!cat x.txt\n",
    "xx = np.loadtxt(\"x.txt\")\n",
    "print(\"xx:\", xx)\n",
    "print(\"xx.dtype:\", xx.dtype) # oops, the type changed"
   ]
  },
  {
   "cell_type": "markdown",
   "metadata": {},
   "source": [
    "More complicated ASCII text files can be parsed with `np.genfromtxt()`.  In particular, `genfromtxt()` can handle missing values (e.g. '--' or '-1' or '-9999' in the file) by replacing them (e.g. np.nan) or generating a masked array.  You can specify column names and types, and access the data in a table-like manner with `unpack`.\n",
    "\n",
    "(The following example file `cak.parameters` are data from the Sacremento Peak K-line program.  It contains Sun-as-a-star (integrated light) from the calcium K-line core, which is a proxy for magnetic activity.)"
   ]
  },
  {
   "cell_type": "code",
   "execution_count": null,
   "metadata": {},
   "outputs": [],
   "source": [
    "!head -n5 cak.parameters\n",
    "cak = np.genfromtxt('cak.parameters', \n",
    "                     dtype=[('month','i'), ('day','i'), ('year', 'i'),\n",
    "                     ('EMDX', 'f'), ('VIORED', 'f'), ('K2VoK3', 'f'),\n",
    "                     ('DELK1', 'f'), ('DELK2', 'f'), ('WilBapp', 'f'),\n",
    "                     ('K3', 'f')\n",
    "                     ],\n",
    "                     skip_header=1,\n",
    "                     unpack=True)\n",
    "print(\"---\")\n",
    "print(cak['EMDX'][0:5])"
   ]
  },
  {
   "cell_type": "markdown",
   "metadata": {},
   "source": [
    "### misc. numpy\n",
    "\n",
    "numpy has a lot of additional capabilities that can be useful, depending on the task at hand.  Check https://docs.scipy.org/doc/numpy/reference/index.html for a comprehensive list.  This includes:\n",
    "\n",
    " * `np.random`: random sampling: uniform and Gaussian distributions, $\\chi^2$ and much more\n",
    " * `np.polynomial`, `np.poly1d`: generating, manipulating, and fitting to data\n",
    " * advanced array manipulation: concatenate, stack, split, tile, rearranging\n",
    " * advanced sorting and selection: e.g. `argmax`, `argwhere`\n",
    " * discrete Fourier transform (DFT)\n",
    " * vectorize: apply a function to an array (pro-tip: avoid `for` loops, they are slow)\n",
    " * linear algebra: inner product, outer product, tensor dot product, eigenvalues\n",
    " * complex number arrays"
   ]
  },
  {
   "cell_type": "markdown",
   "metadata": {},
   "source": [
    "## scipy – even more science than numpy\n",
    "\n",
    "The `scipy` library builds on top of `numpy` and adds a whole lot of more specialized functionality like:\n",
    "\n",
    " * special functions: Bessel, Airy, Elliptic, Error, Gamma, Legendre polynomials, and more\n",
    " * integration and ODE solvers\n",
    " * optimization and curve fitting (e.g. least squares\n",
    " * interpolation, splines\n",
    " * Fast Fourier Transform (FFT) and other Fourier analysis routines\n",
    " * signal processing: filters, windowing functions, wavelets, Lomb-Scargle periodogram\n",
    " * even more linear algebra\n",
    " * advanced statistics: binomial, Boltzman, Planck, Poisson distributions, etc.  Nonparametric estimators.  T-tests.\n",
    " \n",
    "Refer to the documenation for an idea of what is available: https://docs.scipy.org/doc/scipy/reference/index.html"
   ]
  },
  {
   "cell_type": "markdown",
   "metadata": {},
   "source": [
    "## matplotlib – plotting in python\n",
    "\n",
    "Plotting is accomplished through `matplotlib`, which is a massive package with tons of possibilites.  For an idea of what can be done, look at the [gallery](https://matplotlib.org/gallery.html).\n",
    "\n",
    "We will go over some basics.  One useful feature of the Jupyter notebooks is that plots can be displayed inline, like this."
   ]
  },
  {
   "cell_type": "code",
   "execution_count": null,
   "metadata": {},
   "outputs": [],
   "source": [
    "from matplotlib import pyplot as plt\n",
    "%matplotlib inline"
   ]
  },
  {
   "cell_type": "code",
   "execution_count": null,
   "metadata": {},
   "outputs": [],
   "source": [
    "plt.figure()\n",
    "x = np.arange(11) - 5 # from -5 to +5\n",
    "y = x ** 2\n",
    "plt.plot(x, y)"
   ]
  },
  {
   "cell_type": "markdown",
   "metadata": {},
   "source": [
    "This uses the `pyplot` (aliased to `plt` as is typically done) procedural interface.  You can also use an Object-oriented style to do the same thing."
   ]
  },
  {
   "cell_type": "code",
   "execution_count": null,
   "metadata": {},
   "outputs": [],
   "source": [
    "fig, ax = plt.subplots() # generates a Figure and Axis object\n",
    "ax.plot(x, y) # plots x and y on an Axis"
   ]
  },
  {
   "cell_type": "markdown",
   "metadata": {},
   "source": [
    "We will use the `pyplot` interface through the remainder of this tutorial.\n",
    "\n",
    "Basic plot formatting is done with a marker code.  The marker code uses one character to specify a color, one character to specify a marker shape, and the rest to specify the line style."
   ]
  },
  {
   "cell_type": "code",
   "execution_count": null,
   "metadata": {},
   "outputs": [],
   "source": [
    "plt.figure(figsize=(2,2))\n",
    "plt.plot(x, y, 'k.') # k=black .=dots"
   ]
  },
  {
   "cell_type": "code",
   "execution_count": null,
   "metadata": {},
   "outputs": [],
   "source": [
    "plt.figure(figsize=(2,2))\n",
    "plt.plot(x, y, 'ro') # r=red o=circle"
   ]
  },
  {
   "cell_type": "code",
   "execution_count": null,
   "metadata": {},
   "outputs": [],
   "source": [
    "plt.figure(figsize=(2,2))\n",
    "plt.plot(x, y, 'bs-') # b=blue s=square - = solid line"
   ]
  },
  {
   "cell_type": "markdown",
   "metadata": {},
   "source": [
    "See [here](https://matplotlib.org/api/_as_gen/matplotlib.pyplot.plot.html#matplotlib.pyplot.plot) for a description of all the options of marker formats.  The formats can also be specified explicitely with keyword arguments.  Here we repeat the above example in that calling style."
   ]
  },
  {
   "cell_type": "code",
   "execution_count": null,
   "metadata": {},
   "outputs": [],
   "source": [
    "plt.figure(figsize=(2,2))\n",
    "plt.plot(x, y, color='b', marker='s', linestyle='-')"
   ]
  },
  {
   "cell_type": "markdown",
   "metadata": {},
   "source": [
    "The keyword form is particularly useful for defining the style in one place (a `dict`) and using in multiple plots."
   ]
  },
  {
   "cell_type": "code",
   "execution_count": null,
   "metadata": {},
   "outputs": [],
   "source": [
    "plotstyle = dict(color='b', marker='s', linestyle='-')\n",
    "plt.figure(figsize=(2,2))\n",
    "plt.plot(x, y, **plotstyle)\n",
    "\n",
    "plt.figure(figsize=(2,2))\n",
    "plt.plot(x, -y, **plotstyle)"
   ]
  },
  {
   "cell_type": "markdown",
   "metadata": {},
   "source": [
    "You can put multiple plots into one figure using `plt.subplot()`"
   ]
  },
  {
   "cell_type": "code",
   "execution_count": null,
   "metadata": {},
   "outputs": [],
   "source": [
    "plt.figure(figsize=(10,4))\n",
    "plt.subplot(1,2,1) # 1 row, 2 cols, plot #1\n",
    "plt.plot(x, y, **plotstyle)\n",
    "plt.plot(x, y*2, 'ro-')\n",
    "plt.subplot(1,2,2) # 1 row, 2 cols, plot #2\n",
    "plt.plot(x, -y, **plotstyle)"
   ]
  },
  {
   "cell_type": "markdown",
   "metadata": {},
   "source": [
    "Of course, you should always properly label your plots.  This example also shows how to save a plot to a file.  Vector graphics formats (like PDF) are preferred over raster graphics (e.g. PNG, JPG) for most applications."
   ]
  },
  {
   "cell_type": "code",
   "execution_count": null,
   "metadata": {},
   "outputs": [],
   "source": [
    "plt.figure(figsize=(4,4))\n",
    "plt.plot(x, y, **plotstyle)\n",
    "plt.xlabel(\"x [cm]\")\n",
    "plt.ylabel(\"y [cm]\")\n",
    "plt.title(\"My Data\")\n",
    "plt.savefig(\"example_plot.pdf\", bbox_inches='tight')"
   ]
  },
  {
   "cell_type": "markdown",
   "metadata": {},
   "source": [
    "(`bbox_inches='tight'` reduces the margins, good for importing into e.g. a latex document.)"
   ]
  },
  {
   "cell_type": "code",
   "execution_count": null,
   "metadata": {},
   "outputs": [],
   "source": [
    "!open example_plot.pdf"
   ]
  },
  {
   "cell_type": "markdown",
   "metadata": {},
   "source": [
    "The plot can be made even more beautiful with latex-rendered axes."
   ]
  },
  {
   "cell_type": "code",
   "execution_count": null,
   "metadata": {},
   "outputs": [],
   "source": [
    "plt.rc('text', usetex=True)\n",
    "plt.rc('font', family='serif')\n",
    "\n",
    "plt.figure(figsize=(4,4))\n",
    "plt.plot(x, y, **plotstyle)\n",
    "plt.xlabel(r\"$x$ [cm]\", size=16)\n",
    "plt.ylabel(r\"$f(x) = x^2$ [cm]\", size=16)\n",
    "plt.title(r\"My Data\", size=16)\n",
    "plt.savefig(\"example_plot2.pdf\", bbox_inches='tight')"
   ]
  },
  {
   "cell_type": "code",
   "execution_count": null,
   "metadata": {},
   "outputs": [],
   "source": [
    "!open example_plot2.pdf"
   ]
  },
  {
   "cell_type": "markdown",
   "metadata": {},
   "source": [
    "In the above example we adjusted the label text size to be more clear.  Literally everything about the plot can be customized; refer to the `pyplot` [documentation](https://matplotlib.org/api/_as_gen/matplotlib.pyplot.html#module-matplotlib.pyplot) for all the details, or use Google.\n",
    "\n",
    "Many kinds of plots are supported, including:\n",
    "\n",
    " * `hist()`: 1-D histogram\n",
    " * `hist2d()`: 2-D histogram\n",
    " * `contour()`: Contour plot\n",
    " * `imshow()`: Display an image\n",
    " * `pcolormesh()`: Color map of a 2-D array\n",
    " * `quiver()`: vector field\n",
    " \n",
    "Refer to the [gallery](https://matplotlib.org/gallery.html) to see even more posibilities."
   ]
  },
  {
   "cell_type": "markdown",
   "metadata": {},
   "source": [
    "## astropy – astronomy in python\n",
    "\n",
    "[`astropy`](http://docs.astropy.org/en/stable/index.html) is a library of functions useful for astronomy.  It includes utilites for:\n",
    "\n",
    " * Astronomical coordinate systems (equatorial, ecliptic, galactic)\n",
    " * World Coordinate System transformations (pixels -> real-world units)\n",
    " * Time scales and formats (UTC, Barycentric Dynamical Time (TDB), Julian Days, etc.)\n",
    " * Solar System Ephemerides (Location of Moon, Sun, Mars, etc.)\n",
    " * Advanced file I/O, including FITS support and advanced ASCII parsing, and VOTable XML\n",
    " * Powerful data table object with database-like joins, searching, etc.\n",
    " * Astrophysical constants (e.g. c, AU, R_sun,) and unit-aware calculations"
   ]
  },
  {
   "cell_type": "markdown",
   "metadata": {},
   "source": [
    "### dealing with dates using astropy.time\n",
    "\n",
    "Of particular note is its time object, `astropy.time.Time`.  This has functionality for importing and converting time in the wide variety of formats used in astronomy. [Documentation is here.](http://docs.astropy.org/en/stable/time/).  Recall earlier we read in the Sac Peak Ca K data, which has time in separate columns of year, month, and day, which is not very useful for plotting.  We will use the `Time` object to convert this into a single number."
   ]
  },
  {
   "cell_type": "code",
   "execution_count": null,
   "metadata": {},
   "outputs": [],
   "source": [
    "import astropy.time"
   ]
  },
  {
   "cell_type": "code",
   "execution_count": null,
   "metadata": {},
   "outputs": [],
   "source": [
    "# build a list of date strings in the standard ISO format\n",
    "dates = []\n",
    "for i in range(len(cak['year'])):\n",
    "    # midnight UTC - 7 24 - 7 = 17 == noon MST\n",
    "    datestr = \"%04i-%02i-%02iT17:00:00\" % \\\n",
    "    (cak['year'][i], cak['month'][i], cak['day'][i])\n",
    "    dates.append(datestr)\n",
    "print(\"dates:\", dates[0:5])\n",
    "\n",
    "# convert the list into a Time object\n",
    "t_cak = astropy.time.Time(dates, format='isot', scale='utc')\n",
    "print(\"t_cak.decimalyear:\", t_cak.decimalyear[0:5])\n",
    "\n",
    "# now plot the data\n",
    "plt.rc('text', usetex=False)\n",
    "plt.rc('font', family='sansserif')\n",
    "print(\"cak.dtype:\", cak.dtype)\n",
    "plt.figure(figsize=(12,5))\n",
    "plt.plot(t_cak.decimalyear, cak['EMDX'], 'k.')\n",
    "plt.xlabel(\"Date\")\n",
    "plt.ylabel(\"Ca K Emission Index\")"
   ]
  },
  {
   "cell_type": "markdown",
   "metadata": {},
   "source": [
    "## sunpy – python for solar physics\n",
    "\n",
    "[sunpy](http://sunpy.org) is a relatively new (version 0.9) open-source package for solar data analysis.  It is  based on `astropy` and contains utilities for:\n",
    "\n",
    " * \"Out of the box\" support for solar data products (e.g. SDO AIA (via JSOC), HEK)\n",
    " * Mapping solar image pixels to heliographic coordinate systems\n",
    " * Time parsing for formats typically used in solar physics data\n",
    " * timeseries and spectra objects\n",
    " \n",
    " For a quick overview, look at their [brief tour](http://docs.sunpy.org/en/stable/guide/tour.html) and [gallery](http://docs.sunpy.org/en/stable/generated/gallery/index.html)."
   ]
  },
  {
   "cell_type": "markdown",
   "metadata": {},
   "source": [
    "## Science Example: amplutide of Ca K variability\n",
    "\n",
    "Let's try to find out how much the Sun varies in Calcium K using the Sac Peak data we imported above.  We will do this by generating an \"average\" solar cycle using a 1-year median filter and finding the Ca K values at maximum and minimum."
   ]
  },
  {
   "cell_type": "code",
   "execution_count": null,
   "metadata": {},
   "outputs": [],
   "source": [
    "def running_func(f, t, x, w, lims=None):\n",
    "    \"\"\"Compute a function over a window for each day in a time segment\"\"\"\n",
    "    if lims is None:\n",
    "        lims = np.floor((t.jd.min() + w, t.jd.max() - w))\n",
    "    t_func = np.arange(lims[0], lims[1], 1.0, dtype='i') # time axis: 1-day cadence\n",
    "    x_func = np.zeros_like(t_func, dtype='f')\n",
    "    for i, jd in enumerate(t_func):\n",
    "        sel = (t.jd >= (jd - w)) & (t.jd <= (jd + w))\n",
    "        if np.sum(sel) == 0:\n",
    "            x_func[i] = np.nan\n",
    "        else:\n",
    "            x_func[i] = f(x[sel])\n",
    "    t_func = astropy.time.Time(t_func, format='jd')\n",
    "    return t_func, x_func"
   ]
  },
  {
   "cell_type": "code",
   "execution_count": null,
   "metadata": {},
   "outputs": [],
   "source": [
    "# Calculate the 1-year running median on the K-line data\n",
    "K = cak['EMDX']\n",
    "t_medK, medK = running_func(np.median, t_cak, K, 365.25)\n",
    "\n",
    "# Find the max, min values of the original and smoothed data\n",
    "def percent(xmin, xmax):\n",
    "    \"\"\"Calculate the percent change of some range\"\"\"\n",
    "    return (xmax-xmin)/xmin * 100.\n",
    "\n",
    "# First, the original data\n",
    "ix_min = np.argmin(K)\n",
    "ix_max = np.argmax(K)\n",
    "Kmin = K[ix_min]\n",
    "Kmax = K[ix_max]\n",
    "print(\"K varies from %0.3f to %0.3f, or %0.1f%%\" % (Kmin, Kmax, percent(Kmin, Kmax)))\n",
    "print(\"min(K) occurred on\", t_cak.isot[ix_min])\n",
    "print(\"max(K) occurred on\", t_cak.isot[ix_max])\n",
    "\n",
    "# Now the smoothed data\n",
    "ix_medmin = np.argmin(medK)\n",
    "ix_medmax = np.argmax(medK)\n",
    "medKmin = medK[ix_medmin]\n",
    "medKmax = medK[ix_medmax]\n",
    "print(\"median K varies from %0.3f to %0.3f, or %0.1f%%\" % (medKmin, medKmax, percent(medKmin, medKmax)))\n",
    "print(\"min(medK) occurred on\", t_medK.isot[ix_medmin])\n",
    "print(\"max(medK) occurred on\", t_medK.isot[ix_medmax])\n",
    "\n",
    "# Plot the original and smoothed data, highlighting the extrema\n",
    "plt.figure(figsize=(12,5))\n",
    "plt.plot(t_cak.decimalyear, cak['EMDX'], 'k,')\n",
    "plt.plot(t_cak[ix_max].decimalyear, K[ix_max], 'y^', markersize=10)\n",
    "plt.plot(t_cak[ix_min].decimalyear, K[ix_min], 'yv', markersize=10)\n",
    "\n",
    "plt.plot(t_medK.decimalyear, medK, 'r-', linewidth=3)\n",
    "plt.plot(t_medK[ix_medmax].decimalyear, medK[ix_medmax], 'm^', markersize=10)\n",
    "plt.plot(t_medK[ix_medmin].decimalyear, medK[ix_medmin], 'mv', markersize=10)\n",
    "plt.xlabel(\"Date\")\n",
    "plt.ylabel(\"Ca K Emission Index\")\n",
    "\n",
    "# Finally, save the plot to show to your advisor/mentor.  Good job, go get a beer!\n",
    "plt.savefig(\"cak_range.pdf\", bbox_inches='tight')"
   ]
  },
  {
   "cell_type": "code",
   "execution_count": null,
   "metadata": {},
   "outputs": [],
   "source": [
    "!open cak_range.pdf"
   ]
  }
 ],
 "metadata": {
  "kernelspec": {
   "display_name": "Python 3",
   "language": "python",
   "name": "python3"
  },
  "language_info": {
   "codemirror_mode": {
    "name": "ipython",
    "version": 3
   },
   "file_extension": ".py",
   "mimetype": "text/x-python",
   "name": "python",
   "nbconvert_exporter": "python",
   "pygments_lexer": "ipython3",
   "version": "3.6.5"
  }
 },
 "nbformat": 4,
 "nbformat_minor": 2
}
